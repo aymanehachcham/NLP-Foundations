{
 "cells": [
  {
   "cell_type": "markdown",
   "id": "80f69621",
   "metadata": {},
   "source": [
    "Before you turn this problem in, make sure everything runs as expected. First, **restart the kernel** (in the menubar, select Kernel$\\rightarrow$Restart) and then **run all cells** (in the menubar, select Cell$\\rightarrow$Run All) to avoid typical problems with Jupyter notebooks. **Unfortunately, this does not work with Chrome right now, you will also need to reload the tab in Chrome afterwards**.\n",
    "\n",
    "Make sure you fill in any place that says `YOUR CODE HERE` or \"YOUR ANSWER HERE\". Please put your name here:"
   ]
  },
  {
   "cell_type": "code",
   "execution_count": 1,
   "id": "ce005808",
   "metadata": {},
   "outputs": [],
   "source": [
    "NAME = \"Aymane Hachcham\""
   ]
  },
  {
   "cell_type": "markdown",
   "id": "9e8dda6e",
   "metadata": {},
   "source": [
    "---"
   ]
  },
  {
   "cell_type": "markdown",
   "id": "c28c9b43",
   "metadata": {
    "deletable": false,
    "editable": false,
    "nbgrader": {
     "cell_type": "markdown",
     "checksum": "e76d0348eab9b2cba1e98840390011cc",
     "grade": false,
     "grade_id": "cell-f4186ca77b52a161",
     "locked": true,
     "schema_version": 3,
     "solution": false,
     "task": false
    }
   },
   "source": [
    "# Deep Neural Embeddings\n",
    "\n",
    "In this assignment, we will work with deep neural embeddings (but not train such an embedding, which is much too ressource intensive)."
   ]
  },
  {
   "cell_type": "code",
   "execution_count": 2,
   "id": "308b7034",
   "metadata": {
    "deletable": false,
    "editable": false,
    "nbgrader": {
     "cell_type": "code",
     "checksum": "13b62c6e9d6e03125df69a77c6c40c4e",
     "grade": false,
     "grade_id": "cell-a5e938bc95db8551",
     "locked": true,
     "schema_version": 3,
     "solution": false,
     "task": false
    }
   },
   "outputs": [],
   "source": [
    "import numpy as np, pandas as pd\n",
    "import json, gzip\n",
    "raw = json.load(gzip.open(\"/data/simpsonswiki.json.gz\", \"rt\", encoding=\"utf-8\"))\n",
    "titles2, texts, classes, mclasses = [x[\"title\"] for x in raw], [x[\"text\"] for x in raw], [x[\"c\"] for x in raw], [x[\"m\"] for x in raw]\n",
    "df = pd.read_csv(\"/data/simpsons-vectors-bert-mean.csv.gz\") # BERT mean vectors\n",
    "titles, labels, vectors = df.values[:,1], df.values[:,2], df.values[:,3:]\n",
    "del raw, df # free memory"
   ]
  },
  {
   "cell_type": "code",
   "execution_count": 3,
   "id": "21852aa3",
   "metadata": {
    "deletable": false,
    "editable": false,
    "nbgrader": {
     "cell_type": "code",
     "checksum": "a3ca0af8c00c358f5d68af03f17192b1",
     "grade": false,
     "grade_id": "cell-8e787afeedf9edf1",
     "locked": true,
     "schema_version": 3,
     "solution": false,
     "task": false
    }
   },
   "outputs": [],
   "source": [
    "import sklearn.preprocessing\n",
    "vectors = sklearn.preprocessing.normalize(vectors, copy=False)"
   ]
  },
  {
   "cell_type": "markdown",
   "id": "20327f4f",
   "metadata": {
    "deletable": false,
    "editable": false,
    "nbgrader": {
     "cell_type": "markdown",
     "checksum": "397f7fe957b4292d279079f78f513e48",
     "grade": false,
     "grade_id": "cell-e3f0aa5d1d59c841",
     "locked": true,
     "schema_version": 3,
     "solution": false,
     "task": false
    }
   },
   "source": [
    "Find the \"best\" result when clustering with k-means for k=2..20 by ARI.\n",
    "\n",
    "For reproducibility, use the fixed random seed 0, 1 restarts, and no tolerance.\n",
    "\n",
    "Log for yourself the time needed to cluster.\n",
    "\n",
    "Note that on real data, we cannot use ARI."
   ]
  },
  {
   "cell_type": "code",
   "execution_count": 4,
   "id": "26a99048",
   "metadata": {
    "deletable": false,
    "nbgrader": {
     "cell_type": "code",
     "checksum": "c3c6f28756d6d2295e4fde85cfe96982",
     "grade": false,
     "grade_id": "cell-4d15d59170bcfa75",
     "locked": false,
     "schema_version": 3,
     "solution": true,
     "task": false
    }
   },
   "outputs": [],
   "source": [
    "from sklearn.cluster import KMeans\n",
    "from sklearn.metrics import adjusted_rand_score\n",
    "best = (0, -1, None, None) # ARI, k, assignment, centers\n",
    "\n",
    "# YOUR CODE HERE\n",
    "kmeans_model = KMeans(n_clusters=2.2, random_state=1, tol=0).fit(vectors)\n",
    "centers = kmeans.cluster_centers_\n",
    "assignments = kmeans.labels_"
   ]
  },
  {
   "cell_type": "code",
   "execution_count": null,
   "id": "b8c0edf1",
   "metadata": {
    "deletable": false,
    "editable": false,
    "nbgrader": {
     "cell_type": "code",
     "checksum": "9efd7eb76a05e1afbbe18058ffc8447b",
     "grade": true,
     "grade_id": "cell-2c96ab5b69f0d7ad",
     "locked": true,
     "points": 1,
     "schema_version": 3,
     "solution": false,
     "task": false
    }
   },
   "outputs": [],
   "source": []
  },
  {
   "cell_type": "markdown",
   "id": "8893f0c8",
   "metadata": {
    "deletable": false,
    "editable": false,
    "nbgrader": {
     "cell_type": "markdown",
     "checksum": "adc1eb431b4bc89cb7e93b9092f1f72a",
     "grade": false,
     "grade_id": "cell-52b38eda48d3ac27",
     "locked": true,
     "schema_version": 3,
     "solution": false,
     "task": false
    }
   },
   "source": [
    "# Explore the clustering\n",
    "\n",
    "Explore the clustering: print each clusters size and the 5 most central documents to each cluster."
   ]
  },
  {
   "cell_type": "code",
   "execution_count": null,
   "id": "0324485e",
   "metadata": {
    "deletable": false,
    "nbgrader": {
     "cell_type": "code",
     "checksum": "f0eb586c6775ffebe855d6c4f9251806",
     "grade": false,
     "grade_id": "cell-00e3f06f36608260",
     "locked": false,
     "schema_version": 3,
     "solution": true,
     "task": false
    }
   },
   "outputs": [],
   "source": [
    "def explain(ari, k, assignment, centers):\n",
    "    print(\"ARI:\", ari)\n",
    "    # YOUR CODE HERE\n",
    "    raise NotImplementedError()"
   ]
  },
  {
   "cell_type": "code",
   "execution_count": null,
   "id": "76fb6e4f",
   "metadata": {},
   "outputs": [],
   "source": [
    "explain(*best)"
   ]
  },
  {
   "cell_type": "code",
   "execution_count": null,
   "id": "e9d836b7",
   "metadata": {
    "deletable": false,
    "editable": false,
    "nbgrader": {
     "cell_type": "code",
     "checksum": "e3e39b8d3180f5a20709f0ad57d575a0",
     "grade": true,
     "grade_id": "cell-b6d9e129a79586d0",
     "locked": true,
     "points": 1,
     "schema_version": 3,
     "solution": false,
     "task": false
    }
   },
   "outputs": [],
   "source": [
    "# Hidden unit tests"
   ]
  },
  {
   "cell_type": "markdown",
   "id": "25d5ac40",
   "metadata": {
    "deletable": false,
    "editable": false,
    "nbgrader": {
     "cell_type": "markdown",
     "checksum": "8961c0c9d6690021fc4c4d05d67ed40c",
     "grade": false,
     "grade_id": "cell-5dc8946bb53c77a9",
     "locked": true,
     "schema_version": 3,
     "solution": false,
     "task": false
    }
   },
   "source": [
    "## Improve the cluster explanation with TF-IDF\n",
    "\n",
    "Interestingly, TF-IDF is still useful here - what are the important words, now that we only work with 768-dimensional mean vectors? These averaged vectors are not very similar to word vectors anymore (all close together, and close to stop words).\n",
    "\n",
    "First, get back our old tf-idf data"
   ]
  },
  {
   "cell_type": "code",
   "execution_count": null,
   "id": "b6e92063",
   "metadata": {
    "deletable": false,
    "nbgrader": {
     "cell_type": "code",
     "checksum": "7afb5d184fc9e3eadbd9b1e396001009",
     "grade": false,
     "grade_id": "cell-661efbdc2a3813bd",
     "locked": false,
     "schema_version": 3,
     "solution": true,
     "task": false
    }
   },
   "outputs": [],
   "source": [
    "# Prepare Tfidf vectors!\n",
    "tfidf = None # sparse tf-idf matrix\n",
    "vocabulary = None # vocabulary\n",
    "idf = None # IDF values\n",
    "# YOUR CODE HERE\n",
    "raise NotImplementedError()"
   ]
  },
  {
   "cell_type": "code",
   "execution_count": null,
   "id": "c1c4c29d",
   "metadata": {
    "deletable": false,
    "editable": false,
    "nbgrader": {
     "cell_type": "code",
     "checksum": "ee7b2dac75779e9aa0c42e64ff373abd",
     "grade": true,
     "grade_id": "cell-12f3cfde0d170ba4",
     "locked": true,
     "points": 1,
     "schema_version": 3,
     "solution": false,
     "task": false
    }
   },
   "outputs": [],
   "source": [
    "# Automatic tests\n",
    "assert tfidf.shape[0] == vectors.shape[0]"
   ]
  },
  {
   "cell_type": "markdown",
   "id": "1608e09f",
   "metadata": {
    "deletable": false,
    "editable": false,
    "nbgrader": {
     "cell_type": "markdown",
     "checksum": "af6da11d6ef900f99fe64c13227e48b6",
     "grade": false,
     "grade_id": "cell-0a076c5d6defb41e",
     "locked": true,
     "schema_version": 3,
     "solution": false,
     "task": false
    }
   },
   "source": [
    "Now write an explain2 function that also prints the most important words for each cluster.\n",
    "\n",
    "Also use the multi-classifiction information in mclasses to explain the cluster contents in terms of labels."
   ]
  },
  {
   "cell_type": "code",
   "execution_count": null,
   "id": "5cab7d17",
   "metadata": {
    "deletable": false,
    "nbgrader": {
     "cell_type": "code",
     "checksum": "9c78fb6b0b59d2edb22c49d0b5010e5b",
     "grade": false,
     "grade_id": "cell-c2ebdb20b9a71576",
     "locked": false,
     "schema_version": 3,
     "solution": true,
     "task": false
    }
   },
   "outputs": [],
   "source": [
    "def explain2(ari, k, assignment, centers, tfidf, idf, vocabulary):\n",
    "    print(\"ARI:\", ari)\n",
    "    # YOUR CODE HERE\n",
    "    raise NotImplementedError()"
   ]
  },
  {
   "cell_type": "code",
   "execution_count": null,
   "id": "a40c11ab",
   "metadata": {
    "deletable": false,
    "editable": false,
    "nbgrader": {
     "cell_type": "code",
     "checksum": "8749a6cd8ea24b22d0c430aecf2348f1",
     "grade": false,
     "grade_id": "cell-088a912054db5fb7",
     "locked": true,
     "schema_version": 3,
     "solution": false,
     "task": false
    }
   },
   "outputs": [],
   "source": [
    "explain2(*best, tfidf, idf, vocabulary)"
   ]
  },
  {
   "cell_type": "code",
   "execution_count": null,
   "id": "35d2ba56",
   "metadata": {
    "deletable": false,
    "editable": false,
    "nbgrader": {
     "cell_type": "code",
     "checksum": "db8a670e4576cb6ff1e357e87709964c",
     "grade": true,
     "grade_id": "cell-5feccbef29e5c0da",
     "locked": true,
     "points": 1,
     "schema_version": 3,
     "solution": false,
     "task": false
    }
   },
   "outputs": [],
   "source": [
    "# Hidden unit tests"
   ]
  },
  {
   "cell_type": "code",
   "execution_count": null,
   "id": "3a10fdaf",
   "metadata": {
    "deletable": false,
    "editable": false,
    "nbgrader": {
     "cell_type": "code",
     "checksum": "e708eddc07e0276bd4c24077bacb22e4",
     "grade": true,
     "grade_id": "cell-25f04a4397e111a4",
     "locked": true,
     "points": 1,
     "schema_version": 3,
     "solution": false,
     "task": false
    }
   },
   "outputs": [],
   "source": [
    "# Hidden unit tests"
   ]
  }
 ],
 "metadata": {
  "kernelspec": {
   "display_name": "Python 3 (ipykernel)",
   "language": "python",
   "name": "python3"
  },
  "language_info": {
   "codemirror_mode": {
    "name": "ipython",
    "version": 3
   },
   "file_extension": ".py",
   "mimetype": "text/x-python",
   "name": "python",
   "nbconvert_exporter": "python",
   "pygments_lexer": "ipython3",
   "version": "3.8.10"
  }
 },
 "nbformat": 4,
 "nbformat_minor": 5
}
