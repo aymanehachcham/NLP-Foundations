{
 "cells": [
  {
   "cell_type": "markdown",
   "id": "wicked-framing",
   "metadata": {
    "deletable": false,
    "editable": false,
    "nbgrader": {
     "cell_type": "markdown",
     "checksum": "9641e4102d801521bda8ea7f1c015628",
     "grade": false,
     "grade_id": "cell-20ce23e629033d71",
     "locked": true,
     "schema_version": 3,
     "solution": false,
     "task": false
    }
   },
   "source": [
    "# Basic text data processing\n",
    "\n",
    "In this assignment, you will practise some basic text data processing skills, and get to explore a data set"
   ]
  },
  {
   "cell_type": "markdown",
   "id": "oriented-presence",
   "metadata": {
    "deletable": false,
    "editable": false,
    "nbgrader": {
     "cell_type": "markdown",
     "checksum": "c0c0cfb7d46e9a81a09a691e02cda61e",
     "grade": false,
     "grade_id": "cell-f07e25fd7234ff88",
     "locked": true,
     "schema_version": 3,
     "solution": false,
     "task": false
    }
   },
   "source": [
    "## Load and tokenize the Hamlet data set\n",
    "\n",
    "Load the Hamlet data set, and tokenize it into suitable words (omit punctuation!).\n",
    "\n",
    "You may choose a very basic tokenization approach, such as the one from the lecture introduction (despite its limitations)."
   ]
  },
  {
   "cell_type": "code",
   "execution_count": 21,
   "id": "black-uruguay",
   "metadata": {
    "deletable": false,
    "nbgrader": {
     "cell_type": "code",
     "checksum": "3805eafefa7f1c2e754409159b502ae3",
     "grade": false,
     "grade_id": "cell-ce44b6322b84a6ed",
     "locked": false,
     "schema_version": 3,
     "solution": true,
     "task": false
    }
   },
   "outputs": [
    {
     "data": {
      "text/plain": "[['the', 'tragedy', 'of', 'hamlet'],\n ['prince', 'of', 'denmark'],\n ['by', 'william', 'shakespeare'],\n ['dramatis', 'personae'],\n ['claudius'],\n ['king', 'of', 'denmark'],\n ['marcellus'],\n ['officer'],\n ['hamlet'],\n ['son', 'to', 'the', 'former'],\n ['and', 'nephew', 'to', 'the', 'present', 'king'],\n ['polonius'],\n ['lord', 'chamberlain'],\n ['horatio'],\n ['friend', 'to', 'hamlet'],\n ['laertes'],\n ['son', 'to', 'polonius'],\n ['voltemand'],\n ['courtier'],\n ['cornelius'],\n ['courtier'],\n ['rosencrantz'],\n ['courtier'],\n ['guildenstern'],\n ['courtier'],\n ['osric'],\n ['courtier'],\n ['a', 'gentleman'],\n ['courtier'],\n ['a', 'priest'],\n ['marcellus'],\n ['officer'],\n ['bernardo'],\n ['officer'],\n ['francisco'],\n ['a', 'soldier'],\n ['reynaldo'],\n ['servant', 'to', 'polonius'],\n ['players'],\n ['two', 'clowns'],\n ['gravediggers'],\n ['fortinbras'],\n ['prince', 'of', 'norway'],\n ['a', 'norwegian', 'captain'],\n ['english', 'ambassadors'],\n ['getrude'],\n ['queen', 'of', 'denmark'],\n ['mother', 'to', 'hamlet'],\n ['ophelia'],\n ['daughter', 'to', 'polonius'],\n ['ghost', 'of', \"hamlet's\", 'father'],\n ['lords'],\n ['ladies'],\n ['officers'],\n ['soldiers'],\n ['sailors'],\n ['messengers'],\n ['attendants'],\n ['scene.-', 'elsinore'],\n ['act', 'i'],\n ['scene', 'i'],\n ['elsinore'],\n ['a', 'platform', 'before', 'the', 'castle'],\n ['enter', 'two', 'sentinels-[first,]', 'francisco'],\n ['[who', 'paces', 'up', 'and', 'down', 'at', 'his', 'post'],\n ['then]', 'bernardo'],\n ['[who', 'approaches', 'him]'],\n ['ber'],\n [\"who's\", 'there.?'],\n ['fran'],\n ['nay'],\n ['answer', 'me'],\n ['stand', 'and', 'unfold', 'yourself'],\n ['ber'],\n ['long', 'live', 'the', 'king'],\n ['fran'],\n ['bernardo?'],\n ['ber'],\n ['he'],\n ['fran'],\n ['you', 'come', 'most', 'carefully', 'upon', 'your', 'hour'],\n ['ber'],\n [\"'tis\", 'now', 'struck', 'twelve'],\n ['get', 'thee', 'to', 'bed'],\n ['francisco'],\n ['fran'],\n ['for', 'this', 'relief', 'much', 'thanks'],\n [\"'tis\", 'bitter', 'cold'],\n ['and', 'i', 'am', 'sick', 'at', 'heart'],\n ['ber'],\n ['have', 'you', 'had', 'quiet', 'guard?'],\n ['fran'],\n ['not', 'a', 'mouse', 'stirring'],\n ['ber'],\n ['well'],\n ['good', 'night'],\n ['if', 'you', 'do', 'meet', 'horatio', 'and', 'marcellus'],\n ['the', 'rivals', 'of', 'my', 'watch'],\n ['bid', 'them', 'make', 'haste'],\n ['enter', 'horatio', 'and', 'marcellus'],\n ['fran'],\n ['i', 'think', 'i', 'hear', 'them'],\n ['stand'],\n ['ho'],\n ['who', 'is', 'there?'],\n ['hor'],\n ['friends', 'to', 'this', 'ground'],\n ['mar'],\n ['and', 'liegemen', 'to', 'the', 'dane'],\n ['fran'],\n ['give', 'you', 'good', 'night'],\n ['mar'],\n ['o'],\n ['farewell'],\n ['honest', 'soldier'],\n ['who', 'hath', \"reliev'd\", 'you?'],\n ['fran'],\n ['bernardo', 'hath', 'my', 'place'],\n ['give', 'you', 'good', 'night'],\n ['exit'],\n ['mar'],\n ['holla'],\n ['bernardo'],\n ['ber'],\n ['say-'],\n ['what'],\n ['is', 'horatio', 'there', '?'],\n ['hor'],\n ['a', 'piece', 'of', 'him'],\n ['ber'],\n ['welcome'],\n ['horatio'],\n ['welcome'],\n ['good', 'marcellus'],\n ['mar'],\n ['what'],\n ['has', 'this', 'thing', \"appear'd\", 'again', 'to-night?'],\n ['ber'],\n ['i', 'have', 'seen', 'nothing'],\n ['mar'],\n ['horatio', 'says', \"'tis\", 'but', 'our', 'fantasy'],\n ['and', 'will', 'not', 'let', 'belief', 'take', 'hold', 'of', 'him'],\n ['touching', 'this', 'dreaded', 'sight'],\n ['twice', 'seen', 'of', 'us'],\n ['therefore', 'i', 'have', 'entreated', 'him', 'along'],\n ['with', 'us', 'to', 'watch', 'the', 'minutes', 'of', 'this', 'night'],\n ['that'],\n ['if', 'again', 'this', 'apparition', 'come'],\n ['he', 'may', 'approve', 'our', 'eyes', 'and', 'speak', 'to', 'it'],\n ['hor'],\n ['tush'],\n ['tush'],\n [\"'twill\", 'not', 'appear'],\n ['ber'],\n ['sit', 'down', 'awhile'],\n ['and', 'let', 'us', 'once', 'again', 'assail', 'your', 'ears'],\n ['that', 'are', 'so', 'fortified', 'against', 'our', 'story'],\n ['what', 'we', 'two', 'nights', 'have', 'seen'],\n ['hor'],\n ['well'],\n ['sit', 'we', 'down'],\n ['and', 'let', 'us', 'hear', 'bernardo', 'speak', 'of', 'this'],\n ['ber'],\n ['last', 'night', 'of', 'all'],\n ['when', 'yond', 'same', 'star', \"that's\", 'westward', 'from', 'the', 'pole'],\n ['had',\n  'made',\n  'his',\n  'course',\n  \"t'\",\n  'illume',\n  'that',\n  'part',\n  'of',\n  'heaven'],\n ['where', 'now', 'it', 'burns'],\n ['marcellus', 'and', 'myself'],\n ['the', 'bell', 'then', 'beating', 'one-'],\n ['enter', 'ghost'],\n ['mar'],\n ['peace'],\n ['break', 'thee', 'off'],\n ['look', 'where', 'it', 'comes', 'again'],\n ['ber'],\n ['in', 'the', 'same', 'figure'],\n ['like', 'the', 'king', \"that's\", 'dead'],\n ['mar'],\n ['thou', 'art', 'a', 'scholar'],\n ['speak', 'to', 'it'],\n ['horatio'],\n ['ber'],\n ['looks', 'it', 'not', 'like', 'the', 'king?', 'mark', 'it'],\n ['horatio'],\n ['hor'],\n ['most', 'like'],\n ['it', 'harrows', 'me', 'with', 'fear', 'and', 'wonder'],\n ['ber'],\n ['it', 'would', 'be', 'spoke', 'to'],\n ['mar'],\n ['question', 'it'],\n ['horatio'],\n ['hor'],\n ['what', 'art', 'thou', 'that', \"usurp'st\", 'this', 'time', 'of', 'night'],\n ['together', 'with', 'that', 'fair', 'and', 'warlike', 'form'],\n ['in', 'which', 'the', 'majesty', 'of', 'buried', 'denmark'],\n ['did',\n  'sometimes',\n  'march?',\n  'by',\n  'heaven',\n  'i',\n  'charge',\n  'thee',\n  'speak'],\n ['mar'],\n ['it', 'is', 'offended'],\n ['ber'],\n ['see'],\n ['it', 'stalks', 'away'],\n ['hor'],\n ['stay'],\n ['speak'],\n ['speak'],\n ['i', 'charge', 'thee', 'speak'],\n ['exit', 'ghost'],\n ['mar'],\n [\"'tis\", 'gone', 'and', 'will', 'not', 'answer'],\n ['ber'],\n ['how', 'now'],\n ['horatio?', 'you', 'tremble', 'and', 'look', 'pale'],\n ['is', 'not', 'this', 'something', 'more', 'than', 'fantasy?'],\n ['what', 'think', 'you', \"on't?\"],\n ['hor'],\n ['before', 'my', 'god'],\n ['i', 'might', 'not', 'this', 'believe'],\n ['without', 'the', 'sensible', 'and', 'true', 'avouch'],\n ['of', 'mine', 'own', 'eyes'],\n ['mar'],\n ['is', 'it', 'not', 'like', 'the', 'king?'],\n ['hor'],\n ['as', 'thou', 'art', 'to', 'thyself'],\n ['such', 'was', 'the', 'very', 'armour', 'he', 'had', 'on'],\n ['when', 'he', \"th'\", 'ambitious', 'norway', 'combated'],\n ['so', \"frown'd\", 'he', 'once', 'when'],\n ['in', 'an', 'angry', 'parle'],\n ['he', 'smote', 'the', 'sledded', 'polacks', 'on', 'the', 'ice'],\n [\"'tis\", 'strange'],\n ['mar'],\n ['thus', 'twice', 'before'],\n ['and', 'jump', 'at', 'this', 'dead', 'hour'],\n ['with', 'martial', 'stalk', 'hath', 'he', 'gone', 'by', 'our', 'watch'],\n ['hor'],\n ['in', 'what', 'particular', 'thought', 'to', 'work', 'i', 'know', 'not'],\n ['but'],\n ['in', 'the', 'gross', 'and', 'scope', 'of', 'my', 'opinion'],\n ['this', 'bodes', 'some', 'strange', 'eruption', 'to', 'our', 'state'],\n ['mar'],\n ['good', 'now'],\n ['sit', 'down'],\n ['and', 'tell', 'me', 'he', 'that', 'knows'],\n ['why', 'this', 'same', 'strict', 'and', 'most', 'observant', 'watch'],\n ['so', 'nightly', 'toils', 'the', 'subject', 'of', 'the', 'land'],\n ['and', 'why', 'such', 'daily', 'cast', 'of', 'brazen', 'cannon'],\n ['and', 'foreign', 'mart', 'for', 'implements', 'of', 'war'],\n ['why', 'such', 'impress', 'of', 'shipwrights'],\n ['whose', 'sore', 'task'],\n ['does', 'not', 'divide', 'the', 'sunday', 'from', 'the', 'week'],\n ['what', 'might', 'be', 'toward'],\n ['that', 'this', 'sweaty', 'haste'],\n ['doth', 'make', 'the', 'night', 'joint-labourer', 'with', 'the', 'day?'],\n ['who', \"is't\", 'that', 'can', 'inform', 'me?'],\n ['hor'],\n ['that', 'can', 'i'],\n ['at', 'least'],\n ['the', 'whisper', 'goes', 'so'],\n ['our', 'last', 'king'],\n ['whose', 'image', 'even', 'but', 'now', \"appear'd\", 'to', 'us'],\n ['was'],\n ['as', 'you', 'know'],\n ['by', 'fortinbras', 'of', 'norway'],\n ['thereto', \"prick'd\", 'on', 'by', 'a', 'most', 'emulate', 'pride'],\n [\"dar'd\", 'to', 'the', 'combat'],\n ['in', 'which', 'our', 'valiant', 'hamlet'],\n ['(for',\n  'so',\n  'this',\n  'side',\n  'of',\n  'our',\n  'known',\n  'world',\n  \"esteem'd\",\n  'him)'],\n ['did', 'slay', 'this', 'fortinbras'],\n ['who'],\n ['by', 'a', \"seal'd\", 'compact'],\n ['well', 'ratified', 'by', 'law', 'and', 'heraldry'],\n ['did', 'forfeit'],\n ['with', 'his', 'life'],\n ['all', 'those', 'his', 'lands'],\n ['which', 'he', 'stood', \"seiz'd\", 'of'],\n ['to', 'the', 'conqueror'],\n ['against', 'the', 'which', 'a', 'moiety', 'competent'],\n ['was', 'gaged', 'by', 'our', 'king'],\n ['which', 'had', \"return'd\"],\n ['to', 'the', 'inheritance', 'of', 'fortinbras'],\n ['had', 'he', 'been', 'vanquisher'],\n ['as'],\n ['by', 'the', 'same', 'comart'],\n ['and', 'carriage', 'of', 'the', 'article', \"design'd\"],\n ['his', 'fell', 'to', 'hamlet'],\n ['now'],\n ['sir'],\n ['young', 'fortinbras'],\n ['of', 'unimproved', 'mettle', 'hot', 'and', 'full'],\n ['hath', 'in', 'the', 'skirts', 'of', 'norway'],\n ['here', 'and', 'there'],\n [\"shark'd\", 'up', 'a', 'list', 'of', 'lawless', 'resolutes'],\n ['for', 'food', 'and', 'diet'],\n ['to', 'some', 'enterprise'],\n ['that', 'hath', 'a', 'stomach', \"in't\"],\n ['which', 'is', 'no', 'other'],\n ['as', 'it', 'doth', 'well', 'appear', 'unto', 'our', 'state'],\n ['but', 'to', 'recover', 'of', 'us'],\n ['by', 'strong', 'hand'],\n ['and', 'terms', 'compulsatory'],\n ['those', 'foresaid', 'lands'],\n ['so', 'by', 'his', 'father', 'lost'],\n ['and', 'this'],\n ['i', 'take', 'it'],\n ['is', 'the', 'main', 'motive', 'of', 'our', 'preparations'],\n ['the', 'source', 'of', 'this', 'our', 'watch'],\n ['and', 'the', 'chief', 'head'],\n ['of', 'this', 'post-haste', 'and', 'romage', 'in', 'the', 'land'],\n ['ber'],\n ['i', 'think', 'it', 'be', 'no', 'other', 'but', \"e'en\", 'so'],\n ['well', 'may', 'it', 'sort', 'that', 'this', 'portentous', 'figure'],\n ['comes', 'armed', 'through', 'our', 'watch'],\n ['so', 'like', 'the', 'king'],\n ['that', 'was', 'and', 'is', 'the', 'question', 'of', 'these', 'wars'],\n ['hor'],\n ['a', 'mote', 'it', 'is', 'to', 'trouble', 'the', \"mind's\", 'eye'],\n ['in', 'the', 'most', 'high', 'and', 'palmy', 'state', 'of', 'rome'],\n ['a', 'little', 'ere', 'the', 'mightiest', 'julius', 'fell'],\n ['the', 'graves', 'stood', 'tenantless'],\n ['and', 'the', 'sheeted', 'dead'],\n ['did', 'squeak', 'and', 'gibber', 'in', 'the', 'roman', 'streets'],\n ['as', 'stars', 'with', 'trains', 'of', 'fire'],\n ['and', 'dews', 'of', 'blood'],\n ['disasters', 'in', 'the', 'sun'],\n ['and', 'the', 'moist', 'star'],\n ['upon', 'whose', 'influence', \"neptune's\", 'empire', 'stands'],\n ['was', 'sick', 'almost', 'to', 'doomsday', 'with', 'eclipse'],\n ['and', 'even', 'the', 'like', 'precurse', 'of', 'fierce', 'events'],\n ['as', 'harbingers', 'preceding', 'still', 'the', 'fates'],\n ['and', 'prologue', 'to', 'the', 'omen', 'coming', 'on'],\n ['have', 'heaven', 'and', 'earth', 'together', 'demonstrated'],\n ['unto', 'our', 'climature', 'and', 'countrymen'],\n ['enter', 'ghost', 'again'],\n ['but', 'soft'],\n ['behold'],\n ['lo'],\n ['where', 'it', 'comes', 'again'],\n [\"i'll\", 'cross', 'it'],\n ['though', 'it', 'blast', 'me.-', 'stay', 'illusion'],\n ['spreads', 'his', 'arms'],\n ['if', 'thou', 'hast', 'any', 'sound'],\n ['or', 'use', 'of', 'voice'],\n ['speak', 'to', 'me'],\n ['if', 'there', 'be', 'any', 'good', 'thing', 'to', 'be', 'done'],\n ['that', 'may', 'to', 'thee', 'do', 'ease'],\n ['and'],\n ['race', 'to', 'me'],\n ['speak', 'to', 'me'],\n ['if', 'thou', 'art', 'privy', 'to', 'thy', \"country's\", 'fate'],\n ['which', 'happily', 'foreknowing', 'may', 'avoid'],\n ['o'],\n ['speak'],\n ['or', 'if', 'thou', 'hast', 'uphoarded', 'in', 'thy', 'life'],\n ['extorted', 'treasure', 'in', 'the', 'womb', 'of', 'earth'],\n ['(for', 'which'],\n ['they', 'say'],\n ['you', 'spirits', 'oft', 'walk', 'in', 'death)'],\n ['the', 'cock', 'crows'],\n ['speak', 'of', 'it'],\n ['stay'],\n ['and', 'speak!-', 'stop', 'it'],\n ['marcellus'],\n ['mar'],\n ['shall', 'i', 'strike', 'at', 'it', 'with', 'my', 'partisan?'],\n ['hor'],\n ['do'],\n ['if', 'it', 'will', 'not', 'stand'],\n ['ber'],\n [\"'tis\", 'here'],\n ['hor'],\n [\"'tis\", 'here'],\n ['mar'],\n [\"'tis\", 'gone'],\n ['exit', 'ghost'],\n ['we', 'do', 'it', 'wrong'],\n ['being', 'so', 'majestical'],\n ['to', 'offer', 'it', 'the', 'show', 'of', 'violence'],\n ['for', 'it', 'is', 'as', 'the', 'air'],\n ['invulnerable'],\n ['and', 'our', 'vain', 'blows', 'malicious', 'mockery'],\n ['ber'],\n ['it', 'was', 'about', 'to', 'speak'],\n ['when', 'the', 'cock', 'crew'],\n ['hor'],\n ['and', 'then', 'it', 'started'],\n ['like', 'a', 'guilty', 'thing'],\n ['upon', 'a', 'fearful', 'summons'],\n ['i', 'have', 'heard'],\n ['the', 'cock'],\n ['that', 'is', 'the', 'trumpet', 'to', 'the', 'morn'],\n ['doth', 'with', 'his', 'lofty', 'and', 'shrill-sounding', 'throat'],\n ['awake', 'the', 'god', 'of', 'day'],\n ['and', 'at', 'his', 'warning'],\n ['whether', 'in', 'sea', 'or', 'fire'],\n ['in', 'earth', 'or', 'air'],\n [\"th'\", 'extravagant', 'and', 'erring', 'spirit', 'hies'],\n ['to', 'his', 'confine'],\n ['and', 'of', 'the', 'truth', 'herein'],\n ['this', 'present', 'object', 'made', 'probation'],\n ['mar'],\n ['it', 'faded', 'on', 'the', 'crowing', 'of', 'the', 'cock'],\n ['some', 'say', 'that', 'ever'],\n [\"'gainst\", 'that', 'season', 'comes'],\n ['wherein', 'our', \"saviour's\", 'birth', 'is', 'celebrated'],\n ['the', 'bird', 'of', 'dawning', 'singeth', 'all', 'night', 'long'],\n ['and', 'then'],\n ['they', 'say'],\n ['no', 'spirit', 'dare', 'stir', 'abroad'],\n ['the', 'nights', 'are', 'wholesome'],\n ['then', 'no', 'planets', 'strike'],\n ['no', 'fairy', 'takes'],\n ['nor', 'witch', 'hath', 'power', 'to', 'charm'],\n ['so', \"hallow'd\", 'and', 'so', 'gracious', 'is', 'the', 'time'],\n ['hor'],\n ['so', 'have', 'i', 'heard', 'and', 'do', 'in', 'part', 'believe', 'it'],\n ['but', 'look'],\n ['the', 'morn'],\n ['in', 'russet', 'mantle', 'clad'],\n ['walks', \"o'er\", 'the', 'dew', 'of', 'yon', 'high', 'eastward', 'hill'],\n ['break', 'we', 'our', 'watch', 'up'],\n ['and', 'by', 'my', 'advice'],\n ['let', 'us', 'impart', 'what', 'we', 'have', 'seen', 'to-night'],\n ['unto', 'young', 'hamlet'],\n ['for'],\n ['upon', 'my', 'life'],\n ['this', 'spirit'],\n ['dumb', 'to', 'us'],\n ['will', 'speak', 'to', 'him'],\n ['do', 'you', 'consent', 'we', 'shall', 'acquaint', 'him', 'with', 'it'],\n ['as', 'needful', 'in', 'our', 'loves'],\n ['fitting', 'our', 'duty?'],\n [\"let's\", \"do't\"],\n ['i', 'pray'],\n ['and', 'i', 'this', 'morning', 'know'],\n ['where', 'we', 'shall', 'find', 'him', 'most', 'conveniently'],\n ['exeunt'],\n ['scene', 'ii'],\n ['elsinore'],\n ['a', 'room', 'of', 'state', 'in', 'the', 'castle'],\n ['flourish'],\n ['[enter', 'claudius'],\n ['king', 'of', 'denmark'],\n ['gertrude', 'the', 'queen'],\n ['hamlet'],\n ['polonius'],\n ['laertes', 'and', 'his', 'sister', 'ophelia'],\n ['[voltemand'],\n ['cornelius,]', 'lords', 'attendant'],\n ['king'],\n ['though', 'yet', 'of', 'hamlet', 'our', 'dear', \"brother's\", 'death'],\n ['the', 'memory', 'be', 'green'],\n ['and', 'that', 'it', 'us', 'befitted'],\n ['to', 'bear', 'our', 'hearts', 'in', 'grief'],\n ['and', 'our', 'whole', 'kingdom'],\n ['to', 'be', 'contracted', 'in', 'one', 'brow', 'of', 'woe'],\n ['yet', 'so', 'far', 'hath', 'discretion', 'fought', 'with', 'nature'],\n ['that', 'we', 'with', 'wisest', 'sorrow', 'think', 'on', 'him'],\n ['together', 'with', 'remembrance', 'of', 'ourselves'],\n ['therefore', 'our', 'sometime', 'sister'],\n ['now', 'our', 'queen'],\n [\"th'\", 'imperial', 'jointress', 'to', 'this', 'warlike', 'state'],\n ['have', 'we'],\n ['as', \"'twere\", 'with', 'a', 'defeated', 'joy'],\n ['with', 'an', 'auspicious'],\n ['and', 'a', 'dropping', 'eye'],\n ['with', 'mirth', 'in', 'funeral'],\n ['and', 'with', 'dirge', 'in', 'marriage'],\n ['in', 'equal', 'scale', 'weighing', 'delight', 'and', 'dole'],\n ['taken', 'to', 'wife'],\n ['nor', 'have', 'we', 'herein', \"barr'd\"],\n ['your', 'better', 'wisdoms'],\n ['which', 'have', 'freely', 'gone'],\n ['with', 'this', 'affair', 'along'],\n ['for', 'all'],\n ['our', 'thanks'],\n ['now', 'follows'],\n ['that', 'you', 'know'],\n ['young', 'fortinbras'],\n ['holding', 'a', 'weak', 'supposal', 'of', 'our', 'worth'],\n ['or', 'thinking', 'by', 'our', 'late', 'dear', \"brother's\", 'death'],\n ['our', 'state', 'to', 'be', 'disjoint', 'and', 'out', 'of', 'frame'],\n ['colleagued', 'with', 'this', 'dream', 'of', 'his', 'advantage'],\n ['he', 'hath', 'not', \"fail'd\", 'to', 'pester', 'us', 'with', 'message'],\n ['importing', 'the', 'surrender', 'of', 'those', 'lands'],\n ['lost', 'by', 'his', 'father'],\n ['with', 'all', 'bands', 'of', 'law'],\n ['to', 'our', 'most', 'valiant', 'brother'],\n ['so', 'much', 'for', 'him'],\n ['now', 'for', 'ourself', 'and', 'for', 'this', 'time', 'of', 'meeting'],\n ['thus', 'much', 'the', 'business', 'is'],\n ['we', 'have', 'here', 'writ'],\n ['to', 'norway'],\n ['uncle', 'of', 'young', 'fortinbras'],\n ['who'],\n ['impotent', 'and', 'bedrid'],\n ['scarcely', 'hears'],\n ['of', 'this', 'his', \"nephew's\", 'purpose'],\n ['to', 'suppress'],\n ['his', 'further', 'gait', 'herein'],\n ['in', 'that', 'the', 'levies'],\n ['the', 'lists'],\n ['and', 'full', 'proportions', 'are', 'all', 'made'],\n ['out', 'of', 'his', 'subject'],\n ['and', 'we', 'here', 'dispatch'],\n ['you'],\n ['good', 'cornelius'],\n ['and', 'you'],\n ['voltemand'],\n ['for', 'bearers', 'of', 'this', 'greeting', 'to', 'old', 'norway'],\n ['giving', 'to', 'you', 'no', 'further', 'personal', 'power'],\n ['to', 'business', 'with', 'the', 'king'],\n ['more', 'than', 'the', 'scope'],\n ['of', 'these', 'dilated', 'articles', 'allow'],\n ['[gives', 'a', 'paper.]'],\n ['farewell'],\n ['and', 'let', 'your', 'haste', 'commend', 'your', 'duty'],\n ['cor.'],\n ['volt'],\n ['in', 'that'],\n ['and', 'all', 'things'],\n ['will', 'we', 'show', 'our', 'duty'],\n ['king'],\n ['we', 'doubt', 'it', 'nothing'],\n ['heartily', 'farewell'],\n ['exeunt', 'voltemand', 'and', 'cornelius'],\n ['and', 'now'],\n ['laertes'],\n [\"what's\", 'the', 'news', 'with', 'you?'],\n ['you', 'told', 'us', 'of', 'some', 'suit'],\n ['what', \"is't\"],\n ['laertes?'],\n ['you', 'cannot', 'speak', 'of', 'reason', 'to', 'the', 'dane'],\n ['and', 'lose', 'your', 'voice'],\n ['what', 'wouldst', 'thou', 'beg'],\n ['laertes'],\n ['that', 'shall', 'not', 'be', 'my', 'offer'],\n ['not', 'thy', 'asking?'],\n ['the', 'head', 'is', 'not', 'more', 'native', 'to', 'the', 'heart'],\n ['the', 'hand', 'more', 'instrumental', 'to', 'the', 'mouth'],\n ['than', 'is', 'the', 'throne', 'of', 'denmark', 'to', 'thy', 'father'],\n ['what', 'wouldst', 'thou', 'have'],\n ['laertes?'],\n ['laer'],\n ['my', 'dread', 'lord'],\n ['your', 'leave', 'and', 'favour', 'to', 'return', 'to', 'france'],\n ['from', 'whence', 'though', 'willingly', 'i', 'came', 'to', 'denmark'],\n ['to', 'show', 'my', 'duty', 'in', 'your', 'coronation'],\n ['yet', 'now', 'i', 'must', 'confess'],\n ['that', 'duty', 'done'],\n ['my', 'thoughts', 'and', 'wishes', 'bend', 'again', 'toward', 'france'],\n ['and', 'bow', 'them', 'to', 'your', 'gracious', 'leave', 'and', 'pardon'],\n ['king'],\n ['have', 'you', 'your', \"father's\", 'leave?', 'what', 'says', 'polonius?'],\n ['pol'],\n ['he', 'hath'],\n ['my', 'lord'],\n ['wrung', 'from', 'me', 'my', 'slow', 'leave'],\n ['by', 'laboursome', 'petition'],\n ['and', 'at', 'last'],\n ['upon', 'his', 'will', 'i', \"seal'd\", 'my', 'hard', 'consent'],\n ['i', 'do', 'beseech', 'you', 'give', 'him', 'leave', 'to', 'go'],\n ['king'],\n ['take', 'thy', 'fair', 'hour'],\n ['laertes'],\n ['time', 'be', 'thine'],\n ['and', 'thy', 'best', 'graces', 'spend', 'it', 'at', 'thy', 'will'],\n ['but', 'now'],\n ['my', 'cousin', 'hamlet'],\n ['and', 'my', 'son-'],\n ['ham'],\n ['[aside]', 'a', 'little', 'more', 'than', 'kin'],\n ['and', 'less', 'than', 'kind'],\n ['king'],\n ['how', 'is', 'it', 'that', 'the', 'clouds', 'still', 'hang', 'on', 'you?'],\n ['ham'],\n ['not', 'so'],\n ['my', 'lord'],\n ['i', 'am', 'too', 'much', \"i'\", \"th'\", 'sun'],\n ['queen'],\n ['good', 'hamlet'],\n ['cast', 'thy', 'nighted', 'colour', 'off'],\n ['and',\n  'let',\n  'thine',\n  'eye',\n  'look',\n  'like',\n  'a',\n  'friend',\n  'on',\n  'denmark'],\n ['do', 'not', 'for', 'ever', 'with', 'thy', 'vailed', 'lids'],\n ['seek', 'for', 'thy', 'noble', 'father', 'in', 'the', 'dust'],\n ['thou', \"know'st\", \"'tis\", 'common'],\n ['all', 'that', 'lives', 'must', 'die'],\n ['passing', 'through', 'nature', 'to', 'eternity'],\n ['ham'],\n ['ay'],\n ['madam'],\n ['it', 'is', 'common'],\n ['queen'],\n ['if', 'it', 'be'],\n ['why', 'seems', 'it', 'so', 'particular', 'with', 'thee?'],\n ['ham'],\n ['seems'],\n ['madam'],\n ['nay'],\n ['it', 'is'],\n ['i', 'know', 'not', \"'seems.'\"],\n [\"'tis\", 'not', 'alone', 'my', 'inky', 'cloak'],\n ['good', 'mother'],\n ['nor', 'customary', 'suits', 'of', 'solemn', 'black'],\n ['nor', 'windy', 'suspiration', 'of', \"forc'd\", 'breath'],\n ['no'],\n ['nor', 'the', 'fruitful', 'river', 'in', 'the', 'eye'],\n ['nor', 'the', 'dejected', 'havior', 'of', 'the', 'visage'],\n ['together', 'with', 'all', 'forms'],\n ['moods'],\n ['shapes', 'of', 'grief'],\n [\"'that\", 'can', 'denote', 'me', 'truly'],\n ['these', 'indeed', 'seem'],\n ['for', 'they', 'are', 'actions', 'that', 'a', 'man', 'might', 'play'],\n ['but', 'i', 'have', 'that', 'within', 'which', 'passeth', 'show-'],\n ['these', 'but', 'the', 'trappings', 'and', 'the', 'suits', 'of', 'woe'],\n ['king'],\n [\"'tis\", 'sweet', 'and', 'commendable', 'in', 'your', 'nature'],\n ['hamlet'],\n ['to', 'give', 'these', 'mourning', 'duties', 'to', 'your', 'father'],\n ['but', 'you', 'must', 'know'],\n ['your', 'father', 'lost', 'a', 'father'],\n ['that', 'father', 'lost'],\n ['lost', 'his'],\n ['and', 'the', 'survivor', 'bound'],\n ['in', 'filial', 'obligation', 'for', 'some', 'term'],\n ['to', 'do', 'obsequious', 'sorrow'],\n ['but', 'to', 'persever'],\n ['in', 'obstinate', 'condolement', 'is', 'a', 'course'],\n ['of', 'impious', 'stubbornness'],\n [\"'tis\", 'unmanly', 'grief'],\n ['it', 'shows', 'a', 'will', 'most', 'incorrect', 'to', 'heaven'],\n ['a', 'heart', 'unfortified'],\n ['a', 'mind', 'impatient'],\n ['an', 'understanding', 'simple', 'and', \"unschool'd\"],\n ['for', 'what', 'we', 'know', 'must', 'be'],\n ['and', 'is', 'as', 'common'],\n ['as', 'any', 'the', 'most', 'vulgar', 'thing', 'to', 'sense'],\n ['why', 'should', 'we', 'in', 'our', 'peevish', 'opposition'],\n ['take', 'it', 'to', 'heart?', 'fie'],\n [\"'tis\", 'a', 'fault', 'to', 'heaven'],\n ['a', 'fault', 'against', 'the', 'dead'],\n ['a', 'fault', 'to', 'nature'],\n ['to', 'reason', 'most', 'absurd'],\n ['whose', 'common', 'theme'],\n ['is', 'death', 'of', 'fathers'],\n ['and', 'who', 'still', 'hath', 'cried'],\n ['from', 'the', 'first', 'corse', 'till', 'he', 'that', 'died', 'to-day'],\n [\"'this\", 'must', 'be', \"so.'\", 'we', 'pray', 'you', 'throw', 'to', 'earth'],\n ['this', 'unprevailing', 'woe'],\n ['and', 'think', 'of', 'us'],\n ['as', 'of', 'a', 'father'],\n ['for', 'let', 'the', 'world', 'take', 'note'],\n ['you', 'are', 'the', 'most', 'immediate', 'to', 'our', 'throne'],\n ['and', 'with', 'no', 'less', 'nobility', 'of', 'love'],\n ['than', 'that', 'which', 'dearest', 'father', 'bears', 'his', 'son'],\n ['do', 'i', 'impart', 'toward', 'you'],\n ['for', 'your', 'intent'],\n ['in', 'going', 'back', 'to', 'school', 'in', 'wittenberg'],\n ['it', 'is', 'most', 'retrograde', 'to', 'our', 'desire'],\n ['and', 'we', 'beseech', 'you'],\n ['bend', 'you', 'to', 'remain'],\n ['here', 'in', 'the', 'cheer', 'and', 'comfort', 'of', 'our', 'eye'],\n ['our', 'chiefest', 'courtier'],\n ['cousin'],\n ['and', 'our', 'son'],\n ['queen'],\n ['let', 'not', 'thy', 'mother', 'lose', 'her', 'prayers'],\n ['hamlet'],\n ['i', 'pray', 'thee', 'stay', 'with', 'us'],\n ['go', 'not', 'to', 'wittenberg'],\n ['ham'],\n ['i', 'shall', 'in', 'all', 'my', 'best', 'obey', 'you'],\n ['madam'],\n ['king'],\n ['why'],\n [\"'tis\", 'a', 'loving', 'and', 'a', 'fair', 'reply'],\n ['be', 'as', 'ourself', 'in', 'denmark'],\n ['madam'],\n ['come'],\n ['this', 'gentle', 'and', \"unforc'd\", 'accord', 'of', 'hamlet'],\n ['sits', 'smiling', 'to', 'my', 'heart'],\n ['in', 'grace', 'whereof'],\n ['no', 'jocund', 'health', 'that', 'denmark', 'drinks', 'to-day'],\n ['but', 'the', 'great', 'cannon', 'to', 'the', 'clouds', 'shall', 'tell'],\n ['and', 'the', \"king's\", 'rouse', 'the', 'heaven', 'shall', 'bruit', 'again'],\n ['respeaking', 'earthly', 'thunder'],\n ['come', 'away'],\n ['flourish'],\n ['exeunt', 'all', 'but', 'hamlet'],\n ['ham'],\n ['o', 'that', 'this', 'too', 'too', 'solid', 'flesh', 'would', 'melt'],\n ['thaw'],\n ['and', 'resolve', 'itself', 'into', 'a', 'dew'],\n ['or', 'that', 'the', 'everlasting', 'had', 'not', \"fix'd\"],\n ['his', 'canon', \"'gainst\", 'self-slaughter'],\n ['o', 'god'],\n ['god'],\n ['how', 'weary'],\n ['stale'],\n ['flat'],\n ['and', 'unprofitable'],\n ['seem', 'to', 'me', 'all', 'the', 'uses', 'of', 'this', 'world'],\n ['fie', \"on't\"],\n ['ah'],\n ['fie'],\n [\"'tis\", 'an', 'unweeded', 'garden'],\n ['that', 'grows', 'to', 'seed'],\n ['things', 'rank', 'and', 'gross', 'in', 'nature'],\n ['possess', 'it', 'merely'],\n ['that', 'it', 'should', 'come', 'to', 'this'],\n ['but', 'two', 'months', 'dead'],\n ['nay'],\n ['not', 'so', 'much'],\n ['not', 'two'],\n ['so', 'excellent', 'a', 'king'],\n ['that', 'was', 'to', 'this'],\n ['hyperion', 'to', 'a', 'satyr'],\n ['so', 'loving', 'to', 'my', 'mother'],\n ['that', 'he', 'might', 'not', 'beteem', 'the', 'winds', 'of', 'heaven'],\n ['visit', 'her', 'face', 'too', 'roughly'],\n ['heaven', 'and', 'earth'],\n ['must', 'i', 'remember?', 'why'],\n ['she', 'would', 'hang', 'on', 'him'],\n ['as', 'if', 'increase', 'of', 'appetite', 'had', 'grown'],\n ['by', 'what', 'it', 'fed', 'on'],\n ['and', 'yet'],\n ['within', 'a', 'month-'],\n ['let', 'me', 'not', 'think', \"on't\"],\n ['frailty'],\n ['thy', 'name', 'is', 'woman!-'],\n ['a', 'little', 'month'],\n ['or', 'ere', 'those', 'shoes', 'were', 'old'],\n ['with', 'which', 'she', 'followed', 'my', 'poor', \"father's\", 'body'],\n ['like', 'niobe'],\n ['all', 'tears-', 'why', 'she'],\n ['even', 'she'],\n ['(o', 'god'],\n ['a', 'beast', 'that', 'wants', 'discourse', 'of', 'reason'],\n ['would', 'have', \"mourn'd\", 'longer)', 'married', 'with', 'my', 'uncle'],\n ['my', \"father's\", 'brother'],\n ['but', 'no', 'more', 'like', 'my', 'father'],\n ['than', 'i', 'to', 'hercules'],\n ['within', 'a', 'month'],\n ['ere', 'yet', 'the', 'salt', 'of', 'most', 'unrighteous', 'tears'],\n ['had', 'left', 'the', 'flushing', 'in', 'her', 'galled', 'eyes'],\n ['she', 'married'],\n ['o'],\n ['most', 'wicked', 'speed'],\n ['to', 'post'],\n ['with', 'such', 'dexterity', 'to', 'incestuous', 'sheets'],\n ['it', 'is', 'not'],\n ['nor', 'it', 'cannot', 'come', 'to', 'good'],\n ['but', 'break', 'my', 'heart'],\n ['for', 'i', 'must', 'hold', 'my', 'tongue'],\n ['enter', 'horatio'],\n ['marcellus'],\n ['and', 'bernardo'],\n ['hor'],\n ['hail', 'to', 'your', 'lordship'],\n ['ham'],\n ['i', 'am', 'glad', 'to', 'see', 'you', 'well'],\n ['horatio!-', 'or', 'i', 'do', 'forget', 'myself'],\n ['hor'],\n ['the', 'same'],\n ['my', 'lord'],\n ['and', 'your', 'poor', 'servant', 'ever'],\n ['ham'],\n ['sir'],\n ['my', 'good', 'friend-', \"i'll\", 'change', 'that', 'name', 'with', 'you'],\n ['and', 'what', 'make', 'you', 'from', 'wittenberg'],\n ['horatio?'],\n ['marcellus?'],\n ['mar'],\n ['my', 'good', 'lord'],\n ['ham'],\n ['i',\n  'am',\n  'very',\n  'glad',\n  'to',\n  'see',\n  'you.-',\n  '[to',\n  'bernardo]',\n  'good',\n  'even'],\n ['sir.-'],\n ['but', 'what'],\n ['in', 'faith'],\n ['make', 'you', 'from', 'wittenberg?'],\n ['hor'],\n ['a', 'truant', 'disposition'],\n ['good', 'my', 'lord'],\n ['ham'],\n ['i', 'would', 'not', 'hear', 'your', 'enemy', 'say', 'so'],\n ['nor', 'shall', 'you', 'do', 'my', 'ear', 'that', 'violence'],\n ['to', 'make', 'it', 'truster', 'of', 'your', 'own', 'report'],\n ['against', 'yourself'],\n ['i', 'know', 'you', 'are', 'no', 'truant'],\n ['but', 'what', 'is', 'your', 'affair', 'in', 'elsinore?'],\n [\"we'll\", 'teach', 'you', 'to', 'drink', 'deep', 'ere', 'you', 'depart'],\n ['hor'],\n ['my', 'lord'],\n ['i', 'came', 'to', 'see', 'your', \"father's\", 'funeral'],\n ['ham'],\n ['i', 'prithee', 'do', 'not', 'mock', 'me'],\n ['fellow', 'student'],\n ['i', 'think', 'it', 'was', 'to', 'see', 'my', \"mother's\", 'wedding'],\n ['hor'],\n ['indeed'],\n ['my', 'lord'],\n ['it', 'followed', 'hard', 'upon'],\n ['ham'],\n ['thrift'],\n ['thrift'],\n ['horatio'],\n ['the', 'funeral', \"bak'd\", 'meats'],\n ['did', 'coldly', 'furnish', 'forth', 'the', 'marriage', 'tables'],\n ['would', 'i', 'had', 'met', 'my', 'dearest', 'foe', 'in', 'heaven'],\n ['or', 'ever', 'i', 'had', 'seen', 'that', 'day'],\n ['horatio'],\n ['my', 'father-', 'methinks', 'i', 'see', 'my', 'father'],\n ['hor'],\n ['o'],\n ['where'],\n ['my', 'lord?'],\n ['ham'],\n ['in', 'my', \"mind's\", 'eye'],\n ['horatio'],\n ['hor'],\n ['i', 'saw', 'him', 'once'],\n ['he', 'was', 'a', 'goodly', 'king'],\n ['ham'],\n ['he', 'was', 'a', 'man'],\n ['take', 'him', 'for', 'all', 'in', 'all'],\n ['i', 'shall', 'not', 'look', 'upon', 'his', 'like', 'again'],\n ['hor'],\n ['my', 'lord'],\n ['i', 'think', 'i', 'saw', 'him', 'yesternight'],\n ['ham'],\n ['saw?', 'who?'],\n ['hor'],\n ['my', 'lord'],\n ['the', 'king', 'your', 'father'],\n ['ham'],\n ['the', 'king', 'my', 'father?'],\n ['hor'],\n ['season', 'your', 'admiration', 'for', 'a', 'while'],\n ['with', 'an', 'attent', 'ear'],\n ['till', 'i', 'may', 'deliver'],\n ['upon', 'the', 'witness', 'of', 'these', 'gentlemen'],\n ['this', 'marvel', 'to', 'you'],\n ['ham'],\n ['for', \"god's\", 'love', 'let', 'me', 'hear'],\n ['hor'],\n ['two', 'nights', 'together', 'had', 'these', 'gentlemen'],\n ['(marcellus', 'and', 'bernardo)', 'on', 'their', 'watch'],\n ['in', 'the', 'dead', 'vast', 'and', 'middle', 'of', 'the', 'night'],\n ['been', 'thus', \"encount'red\"],\n ['a', 'figure', 'like', 'your', 'father'],\n ['armed', 'at', 'point', 'exactly'],\n ['cap-a-pe'],\n ['appears', 'before', 'them', 'and', 'with', 'solemn', 'march'],\n ['goes', 'slow', 'and', 'stately', 'by', 'them'],\n ['thrice', 'he', \"walk'd\"],\n ['by', 'their', \"oppress'd\", 'and', 'fear-surprised', 'eyes'],\n ['within', 'his', \"truncheon's\", 'length'],\n ['whilst', 'they', \"distill'd\"],\n ['almost', 'to', 'jelly', 'with', 'the', 'act', 'of', 'fear'],\n ['stand', 'dumb', 'and', 'speak', 'not', 'to', 'him'],\n ['this', 'to', 'me'],\n ['in', 'dreadful', 'secrecy', 'impart', 'they', 'did'],\n ['and', 'i', 'with', 'them', 'the', 'third', 'night', 'kept', 'the', 'watch'],\n ['where'],\n ['as', 'they', 'had', \"deliver'd\"],\n ['both', 'in', 'time'],\n ['form', 'of', 'the', 'thing'],\n ['each', 'word', 'made', 'true', 'and', 'good'],\n ['the', 'apparition', 'comes'],\n ['i', 'knew', 'your', 'father'],\n ['these', 'hands', 'are', 'not', 'more', 'like'],\n ['ham'],\n ['but', 'where', 'was', 'this?'],\n ['mar'],\n ['my', 'lord'],\n ['upon', 'the', 'platform', 'where', 'we', \"watch'd\"],\n ['ham'],\n ['did', 'you', 'not', 'speak', 'to', 'it?'],\n ['hor'],\n ['my', 'lord'],\n ['i', 'did'],\n ['but', 'answer', 'made', 'it', 'none'],\n ['yet', 'once', 'methought'],\n ['it', 'lifted', 'up', 'it', 'head', 'and', 'did', 'address'],\n ['itself', 'to', 'motion'],\n ['like', 'as', 'it', 'would', 'speak'],\n ['but', 'even', 'then', 'the', 'morning', 'cock', 'crew', 'loud'],\n ['and', 'at', 'the', 'sound', 'it', 'shrunk', 'in', 'haste', 'away'],\n ['and', \"vanish'd\", 'from', 'our', 'sight'],\n ['ham'],\n [\"'tis\", 'very', 'strange'],\n ['hor'],\n ['as', 'i', 'do', 'live'],\n ['my', \"honour'd\", 'lord'],\n [\"'tis\", 'true'],\n ['and', 'we', 'did', 'think', 'it', 'writ', 'down', 'in', 'our', 'duty'],\n ['to', 'let', 'you', 'know', 'of', 'it'],\n ['ham'],\n ['indeed'],\n ['indeed'],\n ['sirs'],\n ['but', 'this', 'troubles', 'me'],\n ['hold', 'you', 'the', 'watch', 'to-night?'],\n ['both', '[mar'],\n ['and', 'ber.]', 'we', 'do'],\n ['my', 'lord'],\n ['ham'],\n [\"arm'd\"],\n ['say', 'you?'],\n ['both'],\n [\"arm'd\"],\n ['my', 'lord'],\n ['ham'],\n ['from', 'top', 'to', 'toe?'],\n ['both'],\n ['my', 'lord'],\n ['from', 'head', 'to', 'foot'],\n ['ham'],\n ['then', 'saw', 'you', 'not', 'his', 'face?'],\n ['hor'],\n ['o'],\n ['yes'],\n ['my', 'lord'],\n ['he', 'wore', 'his', 'beaver', 'up'],\n ['ham'],\n ['what'],\n [\"look'd\", 'he', 'frowningly'],\n ['hor'],\n ['a', 'countenance', 'more', 'in', 'sorrow', 'than', 'in', 'anger'],\n ['ham'],\n ['pale', 'or', 'red?'],\n ['hor'],\n ['nay'],\n ['very', 'pale'],\n ['ham'],\n ['and', \"fix'd\", 'his', 'eyes', 'upon', 'you?'],\n ['hor'],\n ['most', 'constantly'],\n ['ham'],\n ['i', 'would', 'i', 'had', 'been', 'there'],\n ['hor'],\n ['it', 'would', 'have', 'much', \"amaz'd\", 'you'],\n ['ham'],\n ['very', 'like'],\n ['very', 'like'],\n [\"stay'd\", 'it', 'long?'],\n ['hor'],\n ['while',\n  'one',\n  'with',\n  'moderate',\n  'haste',\n  'might',\n  'tell',\n  'a',\n  'hundred'],\n ['both'],\n ['longer'],\n ['longer'],\n ['hor'],\n ['not', 'when', 'i', \"saw't\"],\n ['ham'],\n ['his', 'beard', 'was', 'grizzled-', 'no?'],\n ['hor'],\n ['it', 'was'],\n ['as', 'i', 'have', 'seen', 'it', 'in', 'his', 'life'],\n ['a', 'sable', \"silver'd\"],\n ['ham'],\n ['i', 'will', 'watch', 'to-night'],\n ['perchance', \"'twill\", 'walk', 'again'],\n ['hor'],\n ['i', \"warr'nt\", 'it', 'will'],\n ['ham'],\n ['if', 'it', 'assume', 'my', 'noble', \"father's\", 'person'],\n [\"i'll\", 'speak', 'to', 'it'],\n ['though', 'hell', 'itself', 'should', 'gape'],\n ['and', 'bid', 'me', 'hold', 'my', 'peace'],\n ['i', 'pray', 'you', 'all'],\n ['if', 'you', 'have', 'hitherto', \"conceal'd\", 'this', 'sight'],\n ['let', 'it', 'be', 'tenable', 'in', 'your', 'silence', 'still'],\n ['and', 'whatsoever', 'else', 'shall', 'hap', 'to-night'],\n ['give', 'it', 'an', 'understanding', 'but', 'no', 'tongue'],\n ['i', 'will', 'requite', 'your', 'loves'],\n ['so'],\n ['fare', 'you', 'well'],\n ['upon', 'the', 'platform'],\n [\"'twixt\", 'eleven', 'and', 'twelve'],\n [\"i'll\", 'visit', 'you'],\n ['all'],\n ['our', 'duty', 'to', 'your', 'honour'],\n ['ham'],\n ['your', 'loves'],\n ['as', 'mine', 'to', 'you'],\n ['farewell'],\n ['exeunt', '[all', 'but', 'hamlet]'],\n ['my', \"father's\", 'spirit-', 'in', 'arms?', 'all', 'is', 'not', 'well'],\n ['i', 'doubt', 'some', 'foul', 'play'],\n ['would', 'the', 'night', 'were', 'come'],\n ['till', 'then', 'sit', 'still'],\n ['my', 'soul'],\n ['foul', 'deeds', 'will', 'rise'],\n ['though', 'all', 'the', 'earth', \"o'erwhelm\", 'them'],\n ['to', \"men's\", 'eyes'],\n ['exit'],\n ['scene', 'iii'],\n ['elsinore'],\n ['a', 'room', 'in', 'the', 'house', 'of', 'polonius'],\n ['enter', 'laertes', 'and', 'ophelia'],\n ...]"
     },
     "execution_count": 21,
     "metadata": {},
     "output_type": "execute_result"
    }
   ],
   "source": [
    "import gzip, re\n",
    "import string\n",
    "# You can add some setup code here (e.g., re.compile)\n",
    "\n",
    "class Tokenize():\n",
    "    def __init__(self, root_dir:str, file_name:str, stopwords:bool=False, normalized:bool=False) -> None:\n",
    "        import os\n",
    "        import re\n",
    "\n",
    "        self._sentence_pattern = re.compile(\"[.:,!;\\n]\\s\", re.U)\n",
    "        self._tokens = []\n",
    "\n",
    "        if os.path.exists(os.path.join(root_dir, file_name)):\n",
    "            file = os.path.join(root_dir, file_name)\n",
    "            with open(file) as f: __full_text = f.read()\n",
    "\n",
    "            for line in re.split(self._sentence_pattern, __full_text):\n",
    "                if line.strip() != '':\n",
    "                    line = line.lower()\n",
    "                    self._tokens.append(line.split())\n",
    "                if stopwords:\n",
    "                    if line.strip() != '':\n",
    "                        line = line.lower()\n",
    "                        self._tokens.append(line.split())\n",
    "\n",
    "        else: raise ValueError('The given directory path does not exist')\n",
    "\n",
    "    def get_tokens(self):\n",
    "        return self._tokens\n",
    "\n",
    "\n",
    "\n",
    "Tokenize('../data/', 'hamlet.txt').get_tokens()\n",
    "# tokenized = list() # Store your output in this list\n",
    "# with open(\"../data/hamlet.txt\") as file:\n",
    "#     for line in file.readlines():\n",
    "#         list_tokens = re.split(pattern, line)\n",
    "#         [tokenized.append(item) for item in list_tokens]\n",
    "\n",
    "\n",
    "# print(\"Hamlet contains %d words total, %d unique.\" % (len(tokenized), len(set(tokenized))))\n",
    "# print(tokenized)"
   ]
  },
  {
   "cell_type": "code",
   "execution_count": 2,
   "id": "alert-colleague",
   "metadata": {
    "deletable": false,
    "editable": false,
    "nbgrader": {
     "cell_type": "code",
     "checksum": "31406e0fc75b2a98de6ca6b292ca1a92",
     "grade": true,
     "grade_id": "cell-2c3e2417ce5c2da2",
     "locked": true,
     "points": 1,
     "schema_version": 3,
     "solution": false,
     "task": false
    }
   },
   "outputs": [],
   "source": [
    "##### Some automatic tests for your solution:\n",
    "assert not \"\" in tokenized, \"The empty string is not a suitable token!\"\n",
    "assert not \"Make\" in tokenized, \"You probably want to only consider lowercase words\"\n",
    "assert len(tokenized) < 35000, \"You generated way too many tokens, check your result!\"\n",
    "assert len(tokenized) > 25000, \"You generated rather few tokens, check your result!\"\n",
    "assert len(set(tokenized)) < 5000, \"You have a fairly large vocabulary. Can you reduce it further?\"\n",
    "assert len(set(tokenized)) > 4000, \"You have a fairly small vocabulary. Did you lose some contents?\""
   ]
  },
  {
   "cell_type": "markdown",
   "id": "anticipated-wonder",
   "metadata": {
    "deletable": false,
    "editable": false,
    "nbgrader": {
     "cell_type": "markdown",
     "checksum": "0e0d4d6c591a97db3a404bcf02612889",
     "grade": false,
     "grade_id": "cell-75a0611ccb7ad4a1",
     "locked": true,
     "schema_version": 3,
     "solution": false,
     "task": false
    }
   },
   "source": [
    "## Find the most common words in the corpus\n",
    "\n",
    "Find the 20 most common words in the corpus.\n",
    "\n",
    "Store them along with the counts in the variable `most_common`"
   ]
  },
  {
   "cell_type": "code",
   "execution_count": 17,
   "id": "furnished-actress",
   "metadata": {
    "deletable": false,
    "nbgrader": {
     "cell_type": "code",
     "checksum": "394da37c9ba228c97936d76ec7117e82",
     "grade": false,
     "grade_id": "cell-3e31745f95656a58",
     "locked": false,
     "schema_version": 3,
     "solution": true,
     "task": false
    }
   },
   "outputs": [
    {
     "name": "stdout",
     "output_type": "stream",
     "text": [
      "[('the', 993), ('and', 862), ('to', 683), ('of', 610), ('you', 522), ('my', 502), ('it', 415), ('in', 384), ('that', 361), ('ham', 337), ('is', 315), ('not', 300), ('his', 285), ('this', 275), ('with', 254), ('your', 253), ('but', 249), ('for', 241), ('me', 228), ('lord', 212)]\n",
      "the\t993\n",
      "and\t862\n",
      "to\t683\n",
      "of\t610\n",
      "you\t522\n",
      "my\t502\n",
      "it\t415\n",
      "in\t384\n",
      "that\t361\n",
      "ham\t337\n",
      "is\t315\n",
      "not\t300\n",
      "his\t285\n",
      "this\t275\n",
      "with\t254\n",
      "your\t253\n",
      "but\t249\n",
      "for\t241\n",
      "me\t228\n",
      "lord\t212\n"
     ]
    }
   ],
   "source": [
    "from collections import Counter # you will find this class useful\n",
    "most_common = [] # store your output in this variable\n",
    "\n",
    "\n",
    "# YOUR CODE HERE\n",
    "\n",
    "# Correction:\n",
    "counter = Counter(tokenized)\n",
    "most_common = Counter.most_common(20)\n",
    "###################################\n",
    "counter = dict()\n",
    "for x in tokenized:\n",
    "    counter[x] = counter.get(x, 0) + 1\n",
    "\n",
    "most_common = sorted(counter.items(), key = lambda x:x[-1][:20])\n",
    "###################################\n",
    "\n",
    "Counter = Counter(tokenized)\n",
    "most_common = Counter.most_common(20)\n",
    "\n",
    "# raise NotImplementedError()\n",
    "print(most_common)\n",
    "\n",
    "# Print the most common words:\n",
    "for word, count in most_common: print(word, count, sep=\"\\t\")"
   ]
  },
  {
   "cell_type": "code",
   "execution_count": 18,
   "id": "brilliant-thriller",
   "metadata": {
    "deletable": false,
    "editable": false,
    "nbgrader": {
     "cell_type": "code",
     "checksum": "b939e5f86edb7a0ca274f3dfc0548dcc",
     "grade": true,
     "grade_id": "cell-2b3496ba176064d1",
     "locked": true,
     "points": 1,
     "schema_version": 3,
     "solution": false,
     "task": false
    }
   },
   "outputs": [],
   "source": [
    "##### Some automatic tests for your solution:\n",
    "assert len(most_common) == 20, \"You were expected to return 20 results!\"\n",
    "assert len(set([x for x,y in most_common])) == 20, \"Your words were not unique?!?\"\n",
    "assert most_common[0][0] == \"the\", \"The most common word is incorrect (did you already remove stopwords above?)\"\n",
    "assert most_common[1][0] == \"and\", \"The second most common word is incorrect (did you already remove stopwords above?)\"\n",
    "assert sum([y for x,y in most_common]) > 5000, \"Your most common words cover rather little of the data.\"\n",
    "assert sum([y for x,y in most_common]) < 10000, \"Your most common words cover unusally much\""
   ]
  },
  {
   "cell_type": "markdown",
   "id": "second-cornell",
   "metadata": {
    "deletable": false,
    "editable": false,
    "nbgrader": {
     "cell_type": "markdown",
     "checksum": "11fdf2854ec8c456d2abb52a2a1e8b1d",
     "grade": false,
     "grade_id": "cell-fa59921ee7c16b86",
     "locked": true,
     "schema_version": 3,
     "solution": false,
     "task": false
    }
   },
   "source": [
    "## Remove English Stopwords\n",
    "\n",
    "Load the file `english-stopwords.txt.gz` and remove the stop words from the token list."
   ]
  },
  {
   "cell_type": "code",
   "execution_count": 19,
   "id": "interim-pencil",
   "metadata": {
    "deletable": false,
    "nbgrader": {
     "cell_type": "code",
     "checksum": "da74dd520c5a2065d58e4259ea984869",
     "grade": false,
     "grade_id": "cell-15e3a9b93f6a2563",
     "locked": false,
     "schema_version": 3,
     "solution": true,
     "task": false
    }
   },
   "outputs": [
    {
     "name": "stdout",
     "output_type": "stream",
     "text": [
      "Number of stopwords: 180\n",
      "Size before removing: 28491\n",
      "Size after removing stopwords: 15879\n",
      "Unique words before: 4793 and after: 4693\n"
     ]
    }
   ],
   "source": [
    "filtered_tokens=[] # Store your solution here\n",
    "\n",
    "# print(tokenized)\n",
    "\n",
    "# YOUR CODE HERE\n",
    "# Correction:\n",
    "stopwords = set(x.strip() for x in gzip.open(\"/data/datasets/english-stopwords.txt.gz\", \"rt\"))\n",
    "\n",
    "# Filtered tokens\n",
    "filtered_tokens = [x in tokenized if not x in stopwords]\n",
    "\n",
    "#######################\n",
    "stopwords = []\n",
    "with gzip.open(\"/data/datasets/english-stopwords.txt.gz\", \"rt\") as file:\n",
    "    stopwords = file.read().split('\\n')\n",
    "    \n",
    "filtered_tokens = [word for word in tokenized if word not in stopwords]\n",
    "\n",
    "print(\"Number of stopwords:\", len(stopwords))\n",
    "print(\"Size before removing:\", len(tokenized))\n",
    "print(\"Size after removing stopwords:\", len(filtered_tokens))\n",
    "print(\"Unique words before: %d and after: %d\" % (len(set(tokenized)), len(set(filtered_tokens))))"
   ]
  },
  {
   "cell_type": "code",
   "execution_count": 20,
   "id": "periodic-solid",
   "metadata": {
    "deletable": false,
    "editable": false,
    "nbgrader": {
     "cell_type": "code",
     "checksum": "427103bff5dacf0fedd5488a809e14e7",
     "grade": true,
     "grade_id": "cell-b5a9733b8ef08e32",
     "locked": true,
     "points": 1,
     "schema_version": 3,
     "solution": false,
     "task": false
    }
   },
   "outputs": [],
   "source": [
    "##### Some automatic tests for your solution:\n",
    "assert not \"\" in filtered_tokens, \"The empty string is not a suitable token!\"\n",
    "assert not \"the\" in filtered_tokens, \"There is still a stop word in your tokens!\"\n",
    "assert not \"and\" in filtered_tokens, \"There is still a stop word in your tokens!\"\n",
    "assert len(filtered_tokens) < 20000, \"You generated way too many tokens, check your result!\"\n",
    "assert len(filtered_tokens) > 15000, \"You generated rather few tokens, check your result!\"\n",
    "assert len(set(filtered_tokens)) < 5000, \"You have a fairly large vocabulary. Can you reduce it further?\"\n",
    "assert len(set(filtered_tokens)) > 4000, \"You have a fairly small vocabulary. Did you lose some contents?\""
   ]
  },
  {
   "cell_type": "markdown",
   "id": "higher-wisconsin",
   "metadata": {
    "deletable": false,
    "editable": false,
    "nbgrader": {
     "cell_type": "markdown",
     "checksum": "73524e793eb72544800032cd9b21ed61",
     "grade": false,
     "grade_id": "cell-e109e43df4920403",
     "locked": true,
     "schema_version": 3,
     "solution": false,
     "task": false
    }
   },
   "source": [
    "## Find the most frequent words after stopword removal\n",
    "\n",
    "Find the 20 most common words in the filtered text.\n",
    "\n",
    "Store them along with the counts in the variable `filtered_most_common`"
   ]
  },
  {
   "cell_type": "code",
   "execution_count": 21,
   "id": "working-determination",
   "metadata": {
    "deletable": false,
    "nbgrader": {
     "cell_type": "code",
     "checksum": "e1aa4e7414d4b938a030af324a74394a",
     "grade": false,
     "grade_id": "cell-acc716f072594191",
     "locked": false,
     "schema_version": 3,
     "solution": true,
     "task": false
    }
   },
   "outputs": [
    {
     "name": "stdout",
     "output_type": "stream",
     "text": [
      "[('ham', 337), ('lord', 212), ('haue', 175), ('king', 171), ('shall', 107), ('thou', 105), ('come', 104), ('hamlet', 100), ('good', 98), ('hor', 95), ('let', 94), ('thy', 90), ('enter', 85), ('oh', 81), ('like', 77), ('well', 70), ('tis', 69), ('know', 69), ('would', 68), ('selfe', 67)]\n",
      "ham\t337\n",
      "lord\t212\n",
      "haue\t175\n",
      "king\t171\n",
      "shall\t107\n",
      "thou\t105\n",
      "come\t104\n",
      "hamlet\t100\n",
      "good\t98\n",
      "hor\t95\n",
      "let\t94\n",
      "thy\t90\n",
      "enter\t85\n",
      "oh\t81\n",
      "like\t77\n",
      "well\t70\n",
      "tis\t69\n",
      "know\t69\n",
      "would\t68\n",
      "selfe\t67\n"
     ]
    }
   ],
   "source": [
    "from collections import Counter # you will find this class useful\n",
    "filtered_most_common = [] # store your answer here\n",
    "\n",
    "## Correction:\n",
    "\n",
    "counter = Counter(filtered_tokens)\n",
    "filtered_most_common = counter.most_common(20)\n",
    "\n",
    "#######################\n",
    "# YOUR CODE HERE\n",
    "Counter = Counter(filtered_tokens)\n",
    "filtered_most_common = Counter.most_common(20)\n",
    "print(filtered_most_common)\n",
    "# raise NotImplementedError()\n",
    "\n",
    "# Print the most common words:\n",
    "for word, count in filtered_most_common: print(word, count, sep=\"\\t\")"
   ]
  },
  {
   "cell_type": "code",
   "execution_count": 22,
   "id": "aggregate-being",
   "metadata": {
    "deletable": false,
    "editable": false,
    "nbgrader": {
     "cell_type": "code",
     "checksum": "10c355ad5e714d26536614b54b60940d",
     "grade": true,
     "grade_id": "cell-558fe176b0097b88",
     "locked": true,
     "points": 1,
     "schema_version": 3,
     "solution": false,
     "task": false
    }
   },
   "outputs": [],
   "source": [
    "##### Some automatic tests for your solution:\n",
    "assert len(filtered_most_common) == 20, \"You were expected to return 20 results!\"\n",
    "assert len(set([x for x,y in filtered_most_common])) == 20, \"Your words were not unique?!?\"\n",
    "assert sum([y for x,y in filtered_most_common]) > 1800, \"Your most common words cover rather little of the data.\"\n",
    "assert sum([y for x,y in filtered_most_common]) < 3000, \"Your most common words cover unusally much\""
   ]
  },
  {
   "cell_type": "markdown",
   "id": "racial-contractor",
   "metadata": {
    "deletable": false,
    "editable": false,
    "nbgrader": {
     "cell_type": "markdown",
     "checksum": "ef5c69e3495dbeb6f5b8a491c4905186",
     "grade": false,
     "grade_id": "cell-e841ea137a491a97",
     "locked": true,
     "schema_version": 3,
     "solution": false,
     "task": false
    }
   },
   "source": [
    "## Make a frequency plot of the most common 100 words\n",
    "\n",
    "Explore Zipf's law by plotting the frequencies of the 100 most common words."
   ]
  },
  {
   "cell_type": "code",
   "execution_count": 28,
   "id": "straight-patrol",
   "metadata": {
    "deletable": false,
    "nbgrader": {
     "cell_type": "code",
     "checksum": "cef6655c5638513196f360fd518c3d08",
     "grade": false,
     "grade_id": "cell-e2d2f0d2190af8c7",
     "locked": false,
     "schema_version": 3,
     "solution": true,
     "task": false
    }
   },
   "outputs": [
    {
     "data": {
      "image/png": "[encoded data removed]",
      "text/plain": [
       "<Figure size 1152x432 with 1 Axes>"
      ]
     },
     "metadata": {
      "needs_background": "light"
     },
     "output_type": "display_data"
    }
   ],
   "source": [
    "import matplotlib.pyplot as plt # use this library\n",
    "import numpy as np\n",
    "\n",
    "values, labels = [], [] # store your data here\n",
    "\n",
    "# YOUR CODE HERE\n",
    "\n",
    "## Correction:\n",
    "hundred_most_common = Counter.most_common(100)\n",
    "labels, values = zip(*hundred_most_common)\n",
    "\n",
    "#######################\n",
    "\n",
    "hundred_most_common = Counter.most_common(100)\n",
    "labels, values = zip(*hundred_most_common)\n",
    "# print(values)\n",
    "# raise NotImplementedError()\n",
    "\n",
    "# Visualize the data\n",
    "plt.figure(figsize=(16,6))\n",
    "plt.plot(np.arange(len(values)) + 1.5, values)\n",
    "plt.xticks(np.arange(len(values)) + 1.5, labels, rotation='vertical')\n",
    "plt.xlim(1, len(values)+2);plt.ylim(0)\n",
    "plt.tight_layout();plt.show()"
   ]
  },
  {
   "cell_type": "markdown",
   "id": "ongoing-explosion",
   "metadata": {
    "deletable": false,
    "editable": false,
    "nbgrader": {
     "cell_type": "markdown",
     "checksum": "5a7585823daa101d4498610dbb6fc5c0",
     "grade": false,
     "grade_id": "cell-055f6c1903eb91d7",
     "locked": true,
     "schema_version": 3,
     "solution": false,
     "task": false
    }
   },
   "source": [
    "## Log-log Plot\n",
    "\n",
    "Plot the word frequencies, sorted descendingly, in log-log-space"
   ]
  },
  {
   "cell_type": "code",
   "execution_count": 31,
   "id": "patient-steam",
   "metadata": {
    "deletable": false,
    "nbgrader": {
     "cell_type": "code",
     "checksum": "e0de3d4fb76e380578ae01ecb6efe6a2",
     "grade": false,
     "grade_id": "cell-85f6b0ce95117d03",
     "locked": false,
     "schema_version": 3,
     "solution": true,
     "task": false
    }
   },
   "outputs": [
    {
     "data": {
      "image/png": "[encoded data removed]",
      "text/plain": [
       "<Figure size 1152x432 with 1 Axes>"
      ]
     },
     "metadata": {
      "needs_background": "light"
     },
     "output_type": "display_data"
    }
   ],
   "source": [
    "import numpy as np\n",
    "\n",
    "# Also plot in logspace, this should look approximately linear\n",
    "values = [] # store your data here\n",
    "\n",
    "# YOUR CODE HERE\n",
    "\n",
    "# Correction:\n",
    "\n",
    "I \n",
    "\n",
    "##############################\n",
    "\n",
    "words = Counter.most_common(100)\n",
    "labels, values = zip(*words)\n",
    "\n",
    "values = np.log(values)\n",
    "\n",
    "X = np.arange(len(values)) + 1.5 # for plotting below\n",
    "# Linear fit\n",
    "from sklearn.linear_model import LinearRegression\n",
    "l = LinearRegression()\n",
    "l.fit(np.log(X).reshape((-1,1)), np.log(values))\n",
    "\n",
    "plt.figure(figsize=(16,6))\n",
    "plt.plot(X, values, label=\"data\")\n",
    "plt.plot(X, np.exp(np.log(X)*l.coef_+l.intercept_), label=\"fit\")\n",
    "plt.xscale(\"log\");plt.yscale(\"log\")\n",
    "plt.tight_layout();plt.show()"
   ]
  },
  {
   "cell_type": "code",
   "execution_count": 32,
   "id": "2ada81f0",
   "metadata": {
    "deletable": false,
    "editable": false,
    "nbgrader": {
     "cell_type": "code",
     "checksum": "36d487d0186d967b9c9b7ae54fa1219f",
     "grade": true,
     "grade_id": "cell-2025b8ef320bdb28",
     "locked": true,
     "points": 1,
     "schema_version": 3,
     "solution": false,
     "task": false
    }
   },
   "outputs": [],
   "source": [
    "from sklearn.linear_model import LinearRegression\n",
    "l = LinearRegression()\n",
    "X = np.arange(len(values)) + 1.5\n",
    "l.fit(np.log(X).reshape((-1,1)), np.log(values))\n",
    "assert l.coef_ < 0, \"Curve must be decreasing\"\n",
    "assert l.intercept_ > 1, \"Curve must start higher\"\n",
    "assert l.score(np.log(X).reshape((-1,1)), np.log(values)) > 0.9, \"Unusually large error.\""
   ]
  },
  {
   "cell_type": "markdown",
   "id": "7e704e50",
   "metadata": {
    "deletable": false,
    "editable": false,
    "nbgrader": {
     "cell_type": "markdown",
     "checksum": "80c35e2f27658a95c1f8e8a375c260c3",
     "grade": false,
     "grade_id": "cell-ceb6de59c69ebbb1",
     "locked": true,
     "schema_version": 3,
     "solution": false,
     "task": false
    }
   },
   "source": [
    "The plot should be reasonably approximated by a straight line in the log-log-plot, as seen in the lecture."
   ]
  }
 ],
 "metadata": {
  "kernelspec": {
   "display_name": "Python 3.9.6 64-bit",
   "language": "python",
   "name": "python3"
  },
  "language_info": {
   "codemirror_mode": {
    "name": "ipython",
    "version": 3
   },
   "file_extension": ".py",
   "mimetype": "text/x-python",
   "name": "python",
   "nbconvert_exporter": "python",
   "pygments_lexer": "ipython3",
   "version": "3.9.6"
  },
  "vscode": {
   "interpreter": {
    "hash": "31f2aee4e71d21fbe5cf8b01ff0e069b9275f58929596ceb00d14d90e3e16cd6"
   }
  }
 },
 "nbformat": 4,
 "nbformat_minor": 5
}
