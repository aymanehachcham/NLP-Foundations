{
 "cells": [
  {
   "cell_type": "markdown",
   "id": "0aa9e3d9",
   "metadata": {
    "deletable": false,
    "editable": false,
    "nbgrader": {
     "cell_type": "markdown",
     "checksum": "c5af4b95bcb3142ba27ae7a9051f6a46",
     "grade": false,
     "grade_id": "cell-bbedce35e5f39717",
     "locked": true,
     "schema_version": 3,
     "solution": false,
     "task": false
    }
   },
   "source": [
    "# Information Retrieval\n",
    "\n",
    "This week, we will learn some basics of information retrieval, and build a simple search engine."
   ]
  },
  {
   "cell_type": "markdown",
   "id": "9312b1d5",
   "metadata": {
    "deletable": false,
    "editable": false,
    "nbgrader": {
     "cell_type": "markdown",
     "checksum": "54392f8a08d21d0ba409b118e1fdab42",
     "grade": false,
     "grade_id": "cell-1623b5d2606677ca",
     "locked": true,
     "schema_version": 3,
     "solution": false,
     "task": false
    }
   },
   "source": [
    "## Hamlet sentences\n",
    "\n",
    "We want to build a full text search index for Hamlet in this assignment.\n",
    "\n",
    "First load the Hamlet data from the previous assignment, and split it into sentences. Beware of the particular structure of this document, which not only separates sentences with a dot.\n",
    "\n",
    "Then tokenize the sentences as in the previous assignment, such that each sentence is a sequence of *words* (no punctuation tokens). Do *not* remove stopwords."
   ]
  },
  {
   "cell_type": "code",
   "execution_count": 1,
   "id": "b34bfa40",
   "metadata": {
    "deletable": false,
    "nbgrader": {
     "cell_type": "code",
     "checksum": "caabb74bf220a2609b2da49aeb6f450e",
     "grade": false,
     "grade_id": "cell-7d5519b84aa8f179",
     "locked": false,
     "schema_version": 3,
     "solution": true,
     "task": false
    },
    "scrolled": false
   },
   "outputs": [
    {
     "name": "stdout",
     "output_type": "stream",
     "text": [
      "THE TRAGEDY OF HAMLET, PRINCE OF DENMARK\n",
      "Hamlet contains 0 sentences, 0 tokens.\n"
     ]
    }
   ],
   "source": [
    "import gzip, re\n",
    "import string\n",
    "\n",
    "_sentence_pattern = re.compile(\"[.:!;\\n]\\s\", re.U)                                                    \n",
    "_words = re.compile(r\"[\\w']+\", re.U)\n",
    "\n",
    "# Read the entire file:\n",
    "with open(\"../data/hamlet.txt\") as file: \n",
    "    full = file.read()\n",
    "\n",
    "sentences = list() # Store your output in this list\n",
    "\n",
    "# First split Hamlet into sentences, then tokenize each sentence.\n",
    "for line in re.split(_sentence_pattern, full):\n",
    "    print(line)\n",
    "    break\n",
    "    if line.strip() != '':\n",
    "        line = line.translate(str.maketrans('', '', string.punctuation)).strip()\n",
    "        sentences.append(line.lower().split())\n",
    "\n",
    "print(\"Hamlet contains %d sentences, %d tokens.\" % (len(sentences), sum(len(s) for s in sentences)))"
   ]
  },
  {
   "cell_type": "markdown",
   "id": "c906269d",
   "metadata": {
    "deletable": false,
    "editable": false,
    "nbgrader": {
     "cell_type": "markdown",
     "checksum": "2b92718b0d653ef724396d806e99c138",
     "grade": false,
     "grade_id": "cell-529133c23bbd9faa",
     "locked": true,
     "schema_version": 3,
     "solution": false,
     "task": false
    }
   },
   "source": [
    "Find the longest sentence (as an array of tokens) and print it"
   ]
  },
  {
   "cell_type": "code",
   "execution_count": 18,
   "id": "cb6f4781",
   "metadata": {
    "deletable": false,
    "nbgrader": {
     "cell_type": "code",
     "checksum": "954631c2227759f56e9fd977761a5a5e",
     "grade": false,
     "grade_id": "cell-307d668996820970",
     "locked": false,
     "schema_version": 3,
     "solution": true,
     "task": false
    }
   },
   "outputs": [
    {
     "name": "stdout",
     "output_type": "stream",
     "text": [
      "Length of longest sentence: 19\n",
      "enter claudius king of denmark gertrude the queen hamlet polonius laertes and his sister ophelia voltemand cornelius lords attendant\n"
     ]
    }
   ],
   "source": [
    "longest = [] # store the answer here, as array\n",
    "\n",
    "longest = max(sentences, key=len)\n",
    "\n",
    "# raise NotImplementedError()\n",
    "print(\"Length of longest sentence:\", len(longest))\n",
    "print(*longest)"
   ]
  },
  {
   "cell_type": "code",
   "execution_count": 19,
   "id": "8dc79894",
   "metadata": {
    "deletable": false,
    "editable": false,
    "nbgrader": {
     "cell_type": "code",
     "checksum": "5eaea0d8f09d8e43e38d03e2c4ed2009",
     "grade": true,
     "grade_id": "cell-8e2d8e8df1aa02a6",
     "locked": true,
     "points": 1,
     "schema_version": 3,
     "solution": false,
     "task": false
    }
   },
   "outputs": [],
   "source": [
    "### AUTOMATIC TESTS ###\n",
    "assert len(longest) > 18, \"There should be a longer sentence.\"\n",
    "assert len(longest) < 180, \"A sentence appears a bit overly long.\""
   ]
  },
  {
   "cell_type": "markdown",
   "id": "36b153ab",
   "metadata": {
    "deletable": false,
    "editable": false,
    "nbgrader": {
     "cell_type": "markdown",
     "checksum": "aa1b968d156085f646f3c7487499cf8c",
     "grade": false,
     "grade_id": "cell-5c421deb245e8469",
     "locked": true,
     "schema_version": 3,
     "solution": false,
     "task": false
    }
   },
   "source": [
    "Count how many sentences have exactly one token. Why are there so many? Find the 10 most frequent one-word sentences."
   ]
  },
  {
   "cell_type": "code",
   "execution_count": 21,
   "id": "56f1e64b",
   "metadata": {
    "deletable": false,
    "nbgrader": {
     "cell_type": "code",
     "checksum": "958dd43b2e9b36decb68b675bfcbc103",
     "grade": false,
     "grade_id": "cell-2ddfc5ededd5fae1",
     "locked": false,
     "schema_version": 3,
     "solution": true,
     "task": false
    }
   },
   "outputs": [
    {
     "name": "stdout",
     "output_type": "stream",
     "text": [
      "There are 1375 sentences with just one word.\n",
      "\n",
      "ham\t358\n",
      "hor\t108\n",
      "king\t106\n",
      "pol\t86\n",
      "queen\t74\n",
      "laer\t62\n",
      "oph\t58\n",
      "ros\t45\n",
      "clown\t33\n",
      "mar\t31\n"
     ]
    }
   ],
   "source": [
    "singletons = 0 # Store your answer in this variable\n",
    "\n",
    "for s in sentences:\n",
    "    if len(s) == 1:\n",
    "        singletons += 1\n",
    "\n",
    "print(\"There are %d sentences with just one word.\\n\" % singletons)\n",
    "\n",
    "most_common = [] # Store the 10 most common one-word sentences and their counts\n",
    "\n",
    "from collections import Counter\n",
    "\n",
    "# Print the most common one-word sentences:\n",
    "one_word_sentences = [word for s in sentences for word in s if len(s) == 1]\n",
    "\n",
    "Counter = Counter([word for s in sentences for word in s if len(s) == 1])\n",
    "most_common = Counter.most_common(10)\n",
    "\n",
    "for word, count in most_common:\n",
    "    print(word, count, sep=\"\\t\")"
   ]
  },
  {
   "cell_type": "code",
   "execution_count": 22,
   "id": "05274abd",
   "metadata": {
    "deletable": false,
    "editable": false,
    "nbgrader": {
     "cell_type": "code",
     "checksum": "ab07e8f17a5d4fd96174b9193e294283",
     "grade": true,
     "grade_id": "cell-63974ea0e59e0b9f",
     "locked": true,
     "points": 1,
     "schema_version": 3,
     "solution": false,
     "task": false
    }
   },
   "outputs": [],
   "source": [
    "### AUTOMATIC TESTS ###\n",
    "assert singletons > 1000, \"There should be more one-word sentences.\"\n",
    "assert singletons < 1500, \"There should be fewer one-word sentences.\"\n",
    "assert len(most_common) == 10, \"You are supposed to return 10 only.\"\n",
    "assert sum([c for _,c in most_common]) > 800, \"The most common should cover more.\"\n",
    "assert sum([c for _,c in most_common]) < 1000, \"The most common should cover less.\""
   ]
  },
  {
   "cell_type": "markdown",
   "id": "b89577fa",
   "metadata": {
    "deletable": false,
    "editable": false,
    "nbgrader": {
     "cell_type": "markdown",
     "checksum": "a8404eb7bc702abb861666898bf79383",
     "grade": false,
     "grade_id": "cell-69191f5834f67800",
     "locked": true,
     "schema_version": 3,
     "solution": false,
     "task": false
    }
   },
   "source": [
    "## Build an inverted index\n",
    "\n",
    "For full-text search, we need an inverted index. Build a lookup table that allows us to find all sentence numbers that contain a particular word. Do not include multiple occurrences."
   ]
  },
  {
   "cell_type": "code",
   "execution_count": 24,
   "id": "4b65f3df",
   "metadata": {
    "deletable": false,
    "nbgrader": {
     "cell_type": "code",
     "checksum": "b6082a47fa9f875ce43b6627b0d0570c",
     "grade": false,
     "grade_id": "cell-838ad16a293af6a3",
     "locked": false,
     "schema_version": 3,
     "solution": true,
     "task": false
    }
   },
   "outputs": [
    {
     "name": "stdout",
     "output_type": "stream",
     "text": [
      "The index contains 4790 words and 31115 occurrences\n"
     ]
    }
   ],
   "source": [
    "from collections import defaultdict, OrderedDict\n",
    "from collections import Counter\n",
    "\n",
    "index = defaultdict(list) # words to occurrences\n",
    "\n",
    "\n",
    "for i, s in enumerate(sentences):\n",
    "    for w in set(s):\n",
    "        index[w].append(i)\n",
    "\n",
    "for k, v in index.items():\n",
    "    index[k] = sorted(list(set(v)))\n",
    "    \n",
    "print(\"The index contains %d words and %d occurrences\" % (len(index), sum([len(x) for x in index.values()])))"
   ]
  },
  {
   "cell_type": "code",
   "execution_count": 9,
   "id": "7b0fbd43",
   "metadata": {
    "deletable": false,
    "editable": false,
    "nbgrader": {
     "cell_type": "code",
     "checksum": "3dd461fe6371ad3df76b4d004a091d85",
     "grade": true,
     "grade_id": "cell-0f55f8981cadc348",
     "locked": true,
     "points": 2,
     "schema_version": 3,
     "solution": false,
     "task": false
    }
   },
   "outputs": [],
   "source": [
    "### AUTOMATIC TESTS ###\n",
    "assert \"the\" in index, \"You probably removed stopwords\"\n",
    "assert not \"man,\" in index, \"There is still punctuation included\"\n",
    "assert len(index) == len(set([x for s in sentences for x in s])), \"You have lost some words.\"\n",
    "assert len(index) > 4000, \"You have very few words\"\n",
    "assert len(index) < 5500, \"You have very many words\"\n",
    "for x in index.values(): assert x == sorted(x), \"Lists are not sorted.\"\n",
    "for x in index.values(): assert len(x)==len(set(x)), \"You have duplicates.\"\n",
    "assert sum([len(x) for x in index.values()]) < sum([len(s) for s in sentences]), \"You have duplicates.\"\n",
    "assert max([len(x) for x in index.values()]) > 500, \"Index seems to miss a frequent word.\"\n",
    "assert max([len(x) for x in index.values()]) < 1000, \"Duplicate indexing?\""
   ]
  },
  {
   "cell_type": "markdown",
   "id": "a9c7771c",
   "metadata": {
    "deletable": false,
    "editable": false,
    "nbgrader": {
     "cell_type": "markdown",
     "checksum": "5b2431d7d6b44a9c6a778c10b888bb6b",
     "grade": false,
     "grade_id": "cell-554e76fd98659a06",
     "locked": true,
     "schema_version": 3,
     "solution": false,
     "task": false
    }
   },
   "source": [
    "# Excursus: Generators in Python\n",
    "\n",
    "Python has a (rather uncommon) powerful feature called [*generators*](https://wiki.python.org/moin/Generators).\n",
    "\n",
    "- When writing generators, they are like functions that can \"return\" multiple values (using `yield`), and will be paused inbetween\n",
    "- When consuming generators, they behave essentially like an iterator\n",
    "- Generators are *lazy*: they do *not* produce a list of all their output, but always one item when necessary\n",
    "- Generators *could* produce an infinite stream of values\n",
    "\n",
    "In the following assignments, please use generators for efficiency. Here is a simple example how generators work:"
   ]
  },
  {
   "cell_type": "code",
   "execution_count": 10,
   "id": "a2d07126",
   "metadata": {},
   "outputs": [
    {
     "name": "stdout",
     "output_type": "stream",
     "text": [
      "Use generator in for loop:\n",
      "gen: generating 0\n",
      "use: generated: 0\n",
      "use: next\n",
      "gen: continuing\n",
      "gen: generating 1\n",
      "use: generated: 1\n",
      "use: next\n",
      "gen: continuing\n",
      "gen: generating 2\n",
      "use: generated: 2\n",
      "use: next\n",
      "gen: continuing\n",
      "Use generator object directly:\n",
      "Type of a: <class 'generator'>\n",
      "gen: generating 0\n",
      "0\n",
      "Wait\n",
      "gen: continuing\n",
      "gen: generating 1\n",
      "1\n",
      "gen: continuing\n",
      "No further values.\n",
      "gen: generating 0\n",
      "gen: continuing\n",
      "gen: generating 1\n",
      "gen: continuing\n",
      "gen: generating 2\n",
      "gen: continuing\n",
      "0 1 2\n"
     ]
    }
   ],
   "source": [
    "def upto(x):\n",
    "    i = 0\n",
    "    while i <= x:\n",
    "        print(\"gen: generating\", i)\n",
    "        yield i # Return value and pause!\n",
    "        print(\"gen: continuing\")\n",
    "        i += 1\n",
    "\n",
    "print(\"Use generator in for loop:\")\n",
    "for j in upto(2):\n",
    "    print(\"use: generated:\", j)\n",
    "    print(\"use: next\")\n",
    "\n",
    "print(\"Use generator object directly:\")\n",
    "a = upto(1)\n",
    "print(\"Type of a:\", type(a))\n",
    "print(next(a))\n",
    "print(\"Wait\")\n",
    "print(next(a))\n",
    "try:\n",
    "    print(next(a))\n",
    "except StopIteration:\n",
    "    print(\"No further values.\")\n",
    "    \n",
    "print(*upto(2)) # The star expands an iterable/generator"
   ]
  },
  {
   "cell_type": "markdown",
   "id": "14526543",
   "metadata": {
    "deletable": false,
    "editable": false,
    "nbgrader": {
     "cell_type": "markdown",
     "checksum": "688e8aad160717fd53f486020ff1db5f",
     "grade": false,
     "grade_id": "cell-0a8dc6dc213818c3",
     "locked": true,
     "schema_version": 3,
     "solution": false,
     "task": false
    }
   },
   "source": [
    "Write yourself a simple generator to enumerate an existing list: given an input list `[a,b,c]` generate an output containing pairs of `(i,v)` where `i` is the 0-based index of the list."
   ]
  },
  {
   "cell_type": "code",
   "execution_count": 11,
   "id": "b73bb252",
   "metadata": {
    "deletable": false,
    "nbgrader": {
     "cell_type": "code",
     "checksum": "527599b997718db2c8676ec1a001f7c8",
     "grade": false,
     "grade_id": "cell-d886c7534fe5e72d",
     "locked": false,
     "schema_version": 3,
     "solution": true,
     "task": false
    }
   },
   "outputs": [
    {
     "name": "stdout",
     "output_type": "stream",
     "text": [
      "(0, 't')\n",
      "(1, 'e')\n",
      "(2, 's')\n",
      "(3, 't')\n",
      "Python Enumerate function:  [(0, 't'), (1, 'e'), (2, 's'), (3, 't')]\n",
      "My Function:  [(0, 't'), (1, 'e'), (2, 's'), (3, 't')]\n"
     ]
    }
   ],
   "source": [
    "def my_enumerate(existing):\n",
    "    \"\"\"Enumerate the values in the existing list.\"\"\"\n",
    "    # YOUR CODE HERE\n",
    "    count = 0\n",
    "    for item in existing:\n",
    "        yield (count, item)\n",
    "        count += 1\n",
    "\n",
    "#     raise NotImplementedError()\n",
    "\n",
    "for item in my_enumerate('test'):\n",
    "    print(item)\n",
    "\n",
    "print('Python Enumerate function: ', list(enumerate('test'))) \n",
    "print('My Function: ', list(my_enumerate('test')))\n",
    "    \n",
    "# for i, string in my_enumerate([\"apple\", \"banana\", \"coconut\"]):\n",
    "#     print(\"Index\", i, \"value\", string)"
   ]
  },
  {
   "cell_type": "code",
   "execution_count": 12,
   "id": "65c45811",
   "metadata": {
    "deletable": false,
    "editable": false,
    "nbgrader": {
     "cell_type": "code",
     "checksum": "b30d5b22b76a3fa0b8022a2e54f03f9a",
     "grade": true,
     "grade_id": "cell-384948bfec63eb7b",
     "locked": true,
     "points": 1,
     "schema_version": 3,
     "solution": false,
     "task": false
    }
   },
   "outputs": [],
   "source": [
    "### AUTOMATIC TESTS ###\n",
    "assert my_enumerate != enumerate, \"You have to implement it yourself!\"\n",
    "assert list(my_enumerate(\"test\")) == list(enumerate(\"test\")), \"Does not produce the expected output.\"\n",
    "from unittest.mock import patch\n",
    "with patch('__main__.enumerate') as mock_enumerate:\n",
    "    list(my_enumerate(\"test\"))\n",
    "mock_enumerate.assert_not_called()\n",
    "import types \n",
    "assert isinstance(my_enumerate(\"test\"), types.GeneratorType), \"Not a generator\""
   ]
  },
  {
   "cell_type": "markdown",
   "id": "5bc7baa8",
   "metadata": {
    "deletable": false,
    "editable": false,
    "nbgrader": {
     "cell_type": "markdown",
     "checksum": "55ac63c961149a9ebf0955d89b1bacb4",
     "grade": false,
     "grade_id": "cell-4a9fa0e7563beeee",
     "locked": true,
     "schema_version": 3,
     "solution": false,
     "task": false
    }
   },
   "source": [
    "# Intersection of sorted lists\n",
    "\n",
    "Back to Hamlet: write a *generator* for the *sorted* intersection of two sorted iterators (e.g., list iterators or other generators). Use a **merge** operation as discussed in class!\n",
    "\n",
    "You may assume that the input is ordered and does not contain duplicates."
   ]
  },
  {
   "cell_type": "code",
   "execution_count": 13,
   "id": "95b9b674",
   "metadata": {
    "deletable": false,
    "nbgrader": {
     "cell_type": "code",
     "checksum": "8eeb6a246bf2e32958065e400b1ca207",
     "grade": false,
     "grade_id": "cell-79587912cb614259",
     "locked": false,
     "schema_version": 3,
     "solution": true,
     "task": false
    }
   },
   "outputs": [
    {
     "name": "stdout",
     "output_type": "stream",
     "text": [
      "42\n",
      "a b c\n",
      "e f\n"
     ]
    }
   ],
   "source": [
    "def intersect(itera, iterb):\n",
    "    \"\"\"Generate the intersection of the two iterators. Do *not* use a list or set!\"\"\"\n",
    "    itera, iterb = iter(itera), iter(iterb)\n",
    "    try:\n",
    "        a, b = next(itera), next(iterb)\n",
    "        while True:\n",
    "            if a == b:\n",
    "                yield a\n",
    "            if a < b:\n",
    "                a = next(itera)\n",
    "            else:\n",
    "                b = next(iterb)\n",
    "        \n",
    "    except StopIteration:\n",
    "        pass # Figure out why this is the right thing to do here!\n",
    "\n",
    "\n",
    "    \n",
    "print(*intersect(range(27,51), [7,23,42,99]))\n",
    "print(*intersect(\"abc\",\"abc\"))\n",
    "# We want to compute the intersection of intersections!\n",
    "print(*intersect(\"abcdef\", intersect(\"cdefgh\", \"efghij\")))"
   ]
  },
  {
   "cell_type": "code",
   "execution_count": 14,
   "id": "1bc63568",
   "metadata": {
    "deletable": false,
    "editable": false,
    "nbgrader": {
     "cell_type": "code",
     "checksum": "c36da720b02c04679b2c40ae8342623f",
     "grade": true,
     "grade_id": "cell-993d0834154f6a5f",
     "locked": true,
     "points": 2,
     "schema_version": 3,
     "solution": false,
     "task": false
    }
   },
   "outputs": [],
   "source": [
    "### AUTOMATIC TESTS ###\n",
    "import types\n",
    "assert isinstance(intersect(\"abc\",\"abc\"), types.GeneratorType), \"Not a generator\"\n",
    "assert sorted(intersect(range(0,10), range(0,10))) == list(range(0,10)), \"Result is no longer sorted\"\n",
    "assert len(list(intersect(range(0,10),range(0,10)))) == 10, \"Cannot self-intersect\"\n",
    "assert len(list(intersect(range(0,10),range(10,20)))) == 0, \"Does not work on disjoint sets\"\n",
    "assert list(intersect(\"abcdef\", intersect(\"cdefgh\", \"efghij\"))) == [\"e\",\"f\"], \"Does not combine\"\n",
    "from unittest.mock import patch\n",
    "with patch('__main__.set') as mock_set, patch('__main__.list') as mock_list:\n",
    "    for v in intersect(\"abc\",\"abc\"): pass\n",
    "mock_set.assert_not_called()\n",
    "mock_list.assert_not_called()"
   ]
  },
  {
   "cell_type": "markdown",
   "id": "b0cfefc8",
   "metadata": {
    "deletable": false,
    "editable": false,
    "nbgrader": {
     "cell_type": "markdown",
     "checksum": "4890b21c78286ae69f0ccbcb3193e820",
     "grade": false,
     "grade_id": "cell-de2049dc561b6b81",
     "locked": true,
     "schema_version": 3,
     "solution": false,
     "task": false
    }
   },
   "source": [
    "## Search!\n",
    "\n",
    "We want to use above index and functions to find all sentences that contain `hamlet` and `horatio`.\n",
    "\n",
    "Write a function `search` that, given a list of keywords, finds all sentence containing all of them."
   ]
  },
  {
   "cell_type": "code",
   "execution_count": 15,
   "id": "ac3f3293",
   "metadata": {
    "deletable": false,
    "nbgrader": {
     "cell_type": "code",
     "checksum": "e206e5f5896af6c96b8cefdb09121634",
     "grade": false,
     "grade_id": "cell-8777f95dd8f71ca9",
     "locked": false,
     "schema_version": 3,
     "solution": true,
     "task": false
    }
   },
   "outputs": [
    {
     "name": "stdout",
     "output_type": "stream",
     "text": [
      "hamlet\n",
      "horatio\n",
      "0 576   enter hamlet horatio marcellus\n",
      "1 2073   manet hamlet horatio\n",
      "2 3111   enter hamlet and horatio a farre off\n",
      "3 3382   enter hamlet and horatio\n",
      "\n",
      "to\n",
      "be\n",
      "or\n",
      "not\n",
      "0 1126   but what might you think when i had seene this hot loue on the wing as i perceiued it i must tell you that before my daughter told me what might you or my deere maiestie your queene heere think if i had playd the deske or tablebooke or giuen my heart a winking mute and dumbe or lookd vpon this loue with idle sight what might you thinke no i went round to worke and my yong mistris thus i did bespeake lord hamlet is a prince out of thy starre this must not be\n",
      "1 1657   to be or not to be that is the question\n",
      "2 2267   what if this cursed hand were thicker then it selfe with brothers blood is there not raine enough in the sweet heauens to wash it white as snow whereto serues mercy but to confront the visage of offence and whats in prayer but this twofold force to be forestalled ere we come to fall or pardond being downe then ile looke vp my fault is past\n"
     ]
    }
   ],
   "source": [
    "\n",
    "## Correction\n",
    "\n",
    "def search(*words):\n",
    "    from functools import reduce\n",
    "    return reduce(intersect, map(index, get, words))\n",
    "\n",
    "############################################\n",
    "\n",
    "def search(*words):\n",
    "    \"\"\"Find all sentence numbers that contain each word in `words`\"\"\"\n",
    "    # YOUR CODE HERE\n",
    "    next_element = index[words[0]]\n",
    "    for word in words:\n",
    "        print(word)\n",
    "        res = intersect(index[word], next_element)\n",
    "        next_element = res\n",
    "    \n",
    "    return res\n",
    "        \n",
    "#     raise NotImplementedError()\n",
    "\n",
    "# print(index['horatio'])\n",
    "# print()\n",
    "# print(index['hamlet'])\n",
    "# print()\n",
    "# for i, s in enumerate(index['horatio']): print(i, s)\n",
    "\n",
    "\n",
    "\n",
    "for i,s in enumerate(search(\"hamlet\", \"horatio\")): print(i,s,\" \",*sentences[s])\n",
    "print()\n",
    "for i,s in enumerate(search(\"to\", \"be\", \"or\", \"not\")): print(i,s,\" \",*sentences[s])"
   ]
  },
  {
   "cell_type": "code",
   "execution_count": 16,
   "id": "5dac3899",
   "metadata": {
    "deletable": false,
    "editable": false,
    "nbgrader": {
     "cell_type": "code",
     "checksum": "f2d49060f738496984f095334c7bf855",
     "grade": true,
     "grade_id": "cell-3ff745f987026d38",
     "locked": true,
     "points": 2,
     "schema_version": 3,
     "solution": false,
     "task": false
    }
   },
   "outputs": [
    {
     "name": "stdout",
     "output_type": "stream",
     "text": [
      "hamlet\n",
      "hamlet\n",
      "hamlet\n",
      "hamlet\n",
      "hamlet\n",
      "horatio\n",
      "to\n",
      "be\n",
      "or\n",
      "not\n",
      "to\n",
      "be\n",
      "or\n",
      "not\n",
      "ham\n",
      "ham\n",
      "ham\n",
      "ham\n",
      "ham\n",
      "ham\n",
      "ham\n",
      "ham\n",
      "ham\n",
      "ham\n",
      "ham\n",
      "ham\n",
      "ham\n",
      "ham\n",
      "ham\n",
      "ham\n",
      "ham\n",
      "ham\n",
      "ham\n",
      "ham\n",
      "ham\n",
      "ham\n",
      "ham\n",
      "ham\n",
      "ham\n",
      "ham\n",
      "ham\n",
      "ham\n",
      "ham\n",
      "ham\n",
      "ham\n",
      "ham\n",
      "ham\n",
      "ham\n",
      "ham\n",
      "ham\n",
      "ham\n",
      "ham\n",
      "ham\n",
      "ham\n",
      "ham\n",
      "ham\n",
      "ham\n",
      "ham\n",
      "ham\n",
      "ham\n",
      "ham\n",
      "ham\n",
      "ham\n",
      "ham\n",
      "ham\n",
      "ham\n",
      "ham\n",
      "ham\n",
      "ham\n",
      "ham\n",
      "ham\n",
      "ham\n",
      "ham\n",
      "ham\n",
      "ham\n",
      "ham\n",
      "ham\n",
      "ham\n",
      "ham\n",
      "ham\n",
      "ham\n",
      "ham\n",
      "ham\n",
      "ham\n",
      "ham\n",
      "ham\n",
      "ham\n",
      "ham\n",
      "ham\n",
      "ham\n",
      "ham\n",
      "ham\n",
      "ham\n",
      "ham\n",
      "ham\n",
      "ham\n",
      "ham\n",
      "ham\n",
      "ham\n",
      "ham\n",
      "ham\n",
      "ham\n",
      "ham\n",
      "ham\n",
      "ham\n",
      "ham\n",
      "ham\n",
      "ham\n",
      "ham\n",
      "ham\n",
      "ham\n",
      "ham\n",
      "ham\n",
      "ham\n",
      "hamlet\n",
      "hamlet\n",
      "hamlet\n",
      "hamlet\n",
      "horatio\n"
     ]
    }
   ],
   "source": [
    "### AUTOMATIC TESTS ###\n",
    "assert list(search(\"hamlet\"))==list(index[\"hamlet\"]), \"Not consistent with index\"\n",
    "assert len(list(search(\"hamlet\")))==len(list(search(\"hamlet\",\"hamlet\"))), \"hamlet and hamlet\"\n",
    "assert len(list(search(\"hamlet\",\"horatio\")))==4, \"Some results are missing\"\n",
    "assert len(list(search(\"to\", \"be\", \"or\", \"not\")))>0, \"Some results are missing\"\n",
    "assert len(list(search(\"to\", \"be\", \"or\", \"not\")))<=5, \"Unexpectedly many results\"\n",
    "assert list(search(*[\"ham\" for x in range(100)])) == list(index[\"ham\"]), \"Does not work with many\"\n",
    "import types\n",
    "assert isinstance(search(\"hamlet\",\"hamlet\",\"hamlet\"), types.GeneratorType), \"Not a generator\"\n",
    "with patch('__main__.intersect') as mock_intersect:\n",
    "    search(\"hamlet\", \"horatio\")\n",
    "mock_intersect.assert_called()"
   ]
  },
  {
   "cell_type": "markdown",
   "id": "82a1357f",
   "metadata": {
    "deletable": false,
    "editable": false,
    "nbgrader": {
     "cell_type": "markdown",
     "checksum": "a342969d63eec4a01a9a474bd03c1b4d",
     "grade": false,
     "grade_id": "cell-f21ad5307873a2b8",
     "locked": true,
     "schema_version": 3,
     "solution": false,
     "task": false
    }
   },
   "source": [
    "## Compute the union\n",
    "\n",
    "In order to perform \"OR\" searches, e.g., to find all sentences that contain \"hamlet\" or \"horatio\", we need a different merge operation. Also implement the `union` merge using generators as above.\n",
    "\n",
    "You may assume that the input is ordered and does not contain duplicates."
   ]
  },
  {
   "cell_type": "code",
   "execution_count": 17,
   "id": "3f0b2cec",
   "metadata": {
    "deletable": false,
    "nbgrader": {
     "cell_type": "code",
     "checksum": "494eb299bb9741c53e3d854b1c90e00b",
     "grade": false,
     "grade_id": "cell-ba22f8f96cb0aae0",
     "locked": false,
     "schema_version": 3,
     "solution": true,
     "task": false
    }
   },
   "outputs": [
    {
     "name": "stdout",
     "output_type": "stream",
     "text": [
      "2 4 6\n",
      "a b c\n",
      "0 1 2 3 4 5 6 7 8 9\n"
     ]
    }
   ],
   "source": [
    "def union(itera, iterb):\n",
    "    \"\"\"Generate the union of the two iterators. Do *not* use a list or set!\"\"\"\n",
    "    def safe_next(i):\n",
    "        \"\"\"Helper function because exceptions are not too elegant.\"\"\"\n",
    "        try:\n",
    "            return next(i)\n",
    "        except StopIteration:\n",
    "            return None\n",
    "    \n",
    "    itera, iterb = iter(itera), iter(iterb)\n",
    "    a, b = safe_next(itera), safe_next(iterb)\n",
    "    # YOUR CODE HERE\n",
    "    while (a is not None) and (b is not None):\n",
    "        try:\n",
    "            if a == b:\n",
    "                yield a\n",
    "                a = safe_next(itera)\n",
    "                b = safe_next(iterb)\n",
    "            elif a < b:\n",
    "                yield a\n",
    "                a = safe_next(itera)\n",
    "            else:\n",
    "                yield b\n",
    "                b = safe_next(iterb)\n",
    "        except TypeError:\n",
    "            pass\n",
    "        \n",
    "    while a is not None:\n",
    "        yield a\n",
    "        a = safe_next(itera)\n",
    "        \n",
    "    while b is not None:\n",
    "        yield b\n",
    "        b = safe_next(iterb) \n",
    "    \n",
    "     \n",
    "    #raise NotImplementedError()\n",
    "\n",
    "print(*union([2,4,6],[2,4,6]))\n",
    "print(*union(\"abc\",\"abc\"))\n",
    "print(*union(range(0,7), range(4,10)))"
   ]
  },
  {
   "cell_type": "code",
   "execution_count": 18,
   "id": "aad8c689",
   "metadata": {
    "deletable": false,
    "editable": false,
    "nbgrader": {
     "cell_type": "code",
     "checksum": "81b4088d0b58ee6106b9ef43c82caf7d",
     "grade": true,
     "grade_id": "cell-0893d7546ffd4eb0",
     "locked": true,
     "points": 3,
     "schema_version": 3,
     "solution": false,
     "task": false
    }
   },
   "outputs": [],
   "source": [
    "### AUTOMATIC TESTS ###\n",
    "import types\n",
    "assert isinstance(union(\"abc\",\"abc\"), types.GeneratorType), \"Not a generator\"\n",
    "assert sorted(union(range(0,10), range(0,10))) == list(range(0,10)), \"Result is no longer sorted\"\n",
    "assert len(list(union(range(0,10),range(0,10)))) == 10, \"Cannot self-intersect\"\n",
    "assert len(list(union(range(0,10),range(10,20)))) == 20, \"Does not work on disjoint lists\"\n",
    "assert list(union(\"abcdef\", union(\"cdefgh\", \"efghij\"))) == list(\"abcdefghij\"), \"Does not combine\"\n",
    "from unittest.mock import patch\n",
    "with patch('__main__.set') as mock_set, patch('__main__.list') as mock_list:\n",
    "    for v in union(\"abc\",\"abc\"): pass\n",
    "mock_set.assert_not_called()\n",
    "mock_list.assert_not_called()"
   ]
  },
  {
   "cell_type": "markdown",
   "id": "a9854c4d",
   "metadata": {
    "deletable": false,
    "editable": false,
    "nbgrader": {
     "cell_type": "markdown",
     "checksum": "a76313b0d7d31bc303633f467005de11",
     "grade": false,
     "grade_id": "cell-ac765cadcf462723",
     "locked": true,
     "schema_version": 3,
     "solution": false,
     "task": false
    }
   },
   "source": [
    "## Search with AND and OR\n",
    "\n",
    "Perform a more complex search using above functions.\n",
    "\n",
    "Search for all sentences that contain (\"hamlet\" or \"horatio\") and \"shall\""
   ]
  },
  {
   "cell_type": "code",
   "execution_count": 71,
   "id": "9e9e0ef5",
   "metadata": {
    "deletable": false,
    "nbgrader": {
     "cell_type": "code",
     "checksum": "424789013dc65c44a82de958fa43e8c0",
     "grade": false,
     "grade_id": "cell-13fe80e404d4b483",
     "locked": false,
     "schema_version": 3,
     "solution": true,
     "task": false
    }
   },
   "outputs": [
    {
     "name": "stdout",
     "output_type": "stream",
     "text": [
      "0 869   and what so poore a man as hamlet is may doe t expresse his loue and friending to you god willing shall not lacke\n",
      "1 2991   but good laertes will you doe this keepe close within your chamber hamlet returnd shall know you are come home\n",
      "2 3724   oh good horatio what a wounded name things standing thus vnknowne shall liue behind me\n"
     ]
    }
   ],
   "source": [
    "answer = [] # Store your result in this variable\n",
    "\n",
    "# First Union:\n",
    "first_step = union(index['hamlet'], index['horatio'])\n",
    "answer = intersect(first_step, index['shall'])\n",
    "\n",
    "# YOUR CODE HERE\n",
    "# def complex_search(*words):\n",
    "#     next_word = index[words[0]]\n",
    "#     for word in words:\n",
    "#         res = union(index[word], next_word)\n",
    "#         print('Union of word {}: {}'.format(word, *res))\n",
    "#         next_word = res\n",
    "#         if word == words[-1]:\n",
    "#             print('This is res before intersection: {}\\n'.format(*res))\n",
    "#             res = intersect(index[word], next_word)\n",
    "    \n",
    "# #     answer = list(res)\n",
    "#     return list(res)\n",
    "\n",
    "# raise NotImplementedError()\n",
    "answer = list(answer) # in case your answer was a generator\n",
    "for i,s in enumerate(answer): print(i, s, \" \", *sentences[s])"
   ]
  },
  {
   "cell_type": "code",
   "execution_count": 72,
   "id": "0b7ddbc3",
   "metadata": {
    "deletable": false,
    "editable": false,
    "nbgrader": {
     "cell_type": "code",
     "checksum": "8e611bf8a6a3f2745d31f0d8b7747438",
     "grade": true,
     "grade_id": "cell-d0485fdf143a9eb7",
     "locked": true,
     "points": 1,
     "schema_version": 3,
     "solution": false,
     "task": false
    }
   },
   "outputs": [],
   "source": [
    "# This cell contains a server-side only test to grade the point\n",
    "assert len(answer)>0, \"No results\""
   ]
  },
  {
   "cell_type": "code",
   "execution_count": null,
   "id": "82763ab5",
   "metadata": {},
   "outputs": [],
   "source": []
  }
 ],
 "metadata": {
  "kernelspec": {
   "display_name": "tad",
   "language": "python",
   "name": "python3"
  },
  "language_info": {
   "codemirror_mode": {
    "name": "ipython",
    "version": 3
   },
   "file_extension": ".py",
   "mimetype": "text/x-python",
   "name": "python",
   "nbconvert_exporter": "python",
   "pygments_lexer": "ipython3",
   "version": "3.9.13 (main, Oct 13 2022, 16:12:19) \n[Clang 12.0.0 ]"
  },
  "vscode": {
   "interpreter": {
    "hash": "54826c9090fc3c41444c4c76793f5dcaeec0f6b978dfbe8d13b48919d80e5103"
   }
  }
 },
 "nbformat": 4,
 "nbformat_minor": 5
}
