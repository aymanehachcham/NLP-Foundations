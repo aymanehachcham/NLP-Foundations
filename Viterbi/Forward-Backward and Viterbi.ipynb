{
 "cells": [
  {
   "cell_type": "markdown",
   "id": "046402e1",
   "metadata": {},
   "source": [
    "Before you turn this problem in, make sure everything runs as expected. First, **restart the kernel** (in the menubar, select Kernel$\\rightarrow$Restart) and then **run all cells** (in the menubar, select Cell$\\rightarrow$Run All) to avoid typical problems with Jupyter notebooks. **Unfortunately, this does not work with Chrome right now, you will also need to reload the tab in Chrome afterwards**.\n",
    "\n",
    "Make sure you fill in any place that says `YOUR CODE HERE` or \"YOUR ANSWER HERE\". Please put your name here:"
   ]
  },
  {
   "cell_type": "code",
   "execution_count": 24,
   "id": "33b26956",
   "metadata": {},
   "outputs": [],
   "source": [
    "NAME = \"Aymane Hachcham\""
   ]
  },
  {
   "cell_type": "markdown",
   "id": "67d28854",
   "metadata": {},
   "source": [
    "---"
   ]
  },
  {
   "cell_type": "markdown",
   "id": "4b7c3800",
   "metadata": {
    "deletable": false,
    "editable": false,
    "nbgrader": {
     "cell_type": "markdown",
     "checksum": "62ecf252632dc72dd98776d896162a09",
     "grade": false,
     "grade_id": "cell-d825eb116606e026",
     "locked": true,
     "schema_version": 3,
     "solution": false,
     "task": false
    }
   },
   "source": [
    "# Forward-Backward- and Viterbi\n",
    "\n",
    "This week we will implement the forward-backward, and Viterbi algorithms."
   ]
  },
  {
   "cell_type": "code",
   "execution_count": 25,
   "id": "6ee11320",
   "metadata": {
    "deletable": false,
    "editable": false,
    "nbgrader": {
     "cell_type": "code",
     "checksum": "2476944d7172b5ad7ed57f4d1daff23a",
     "grade": false,
     "grade_id": "cell-345ecaeb9bc27b2d",
     "locked": true,
     "schema_version": 3,
     "solution": false,
     "task": false
    }
   },
   "outputs": [
    {
     "data": {
      "image/png": "[encoded data removed]",
      "text/plain": [
       "<Figure size 720x72 with 1 Axes>"
      ]
     },
     "metadata": {
      "needs_background": "light"
     },
     "output_type": "display_data"
    }
   ],
   "source": [
    "import numpy as np, matplotlib.pyplot as plt\n",
    "icecream = [int(x) for x in open(\"/data/icecream.csv\")]\n",
    "plt.figure(figsize=(10,1))\n",
    "plt.title(\"Ice cream consumption per day\")\n",
    "plt.step(np.arange(0, len(icecream)), icecream, where=\"mid\", label=\"Ice cream\", color=\"b\")\n",
    "plt.step(np.arange(0, len(icecream)), icecream, \"o\", where=\"mid\", color=\"b\");"
   ]
  },
  {
   "cell_type": "code",
   "execution_count": 26,
   "id": "20e5143f",
   "metadata": {
    "deletable": false,
    "editable": false,
    "nbgrader": {
     "cell_type": "code",
     "checksum": "329e2199881ed6acbc35c4a6a7e323f2",
     "grade": false,
     "grade_id": "cell-00446dd5dc1e55a9",
     "locked": true,
     "schema_version": 3,
     "solution": false,
     "task": false
    }
   },
   "outputs": [
    {
     "data": {
      "image/png": "[encoded data removed]",
      "text/plain": [
       "<Figure size 720x72 with 1 Axes>"
      ]
     },
     "metadata": {
      "needs_background": "light"
     },
     "output_type": "display_data"
    }
   ],
   "source": [
    "# Convert ice cream into a 0-indexed state array:\n",
    "states = np.array(icecream) - 1\n",
    "plt.figure(figsize=(10,1))\n",
    "plt.title(\"State\")\n",
    "plt.step(np.arange(0, len(states)), states, \"o\", where=\"mid\", color=\"b\");"
   ]
  },
  {
   "cell_type": "code",
   "execution_count": 27,
   "id": "a01f1a34",
   "metadata": {},
   "outputs": [
    {
     "data": {
      "text/plain": [
       "33"
      ]
     },
     "execution_count": 27,
     "metadata": {},
     "output_type": "execute_result"
    }
   ],
   "source": [
    "len(states)"
   ]
  },
  {
   "cell_type": "markdown",
   "id": "02f4c997",
   "metadata": {
    "deletable": false,
    "editable": false,
    "nbgrader": {
     "cell_type": "markdown",
     "checksum": "56d666d1f2926778ba604661aa64a919",
     "grade": false,
     "grade_id": "cell-ac3e0e6e36b87121",
     "locked": true,
     "schema_version": 3,
     "solution": false,
     "task": false
    }
   },
   "source": [
    "## Implement the forward algorithm\n",
    "\n",
    "With a starting probability distribution `pi` and a transition matrix `a` and an observation probability matrix `b`.\n",
    "\n",
    "Use vectorized operations where possible.\n",
    "\n",
    "You do not need to conserve memory. Instead, return the entire $N\\times k$ matrix for $N$ steps and $k$ states."
   ]
  },
  {
   "cell_type": "code",
   "execution_count": 28,
   "id": "076f017f",
   "metadata": {
    "deletable": false,
    "nbgrader": {
     "cell_type": "code",
     "checksum": "ee29f10fe05b271ac5d58f273051aabe",
     "grade": false,
     "grade_id": "cell-1bdf877b2db4af75",
     "locked": false,
     "schema_version": 3,
     "solution": true,
     "task": false
    }
   },
   "outputs": [],
   "source": [
    "def forward(data, pi, a, b):\n",
    "    \"\"\"Forward algorithm\"\"\"\n",
    "    k = len(pi)\n",
    "    assert k == a.shape[0]; assert k == a.shape[1]; assert k == b.shape[1]\n",
    "    \n",
    "    # Create the matrix containing the forward probs:\n",
    "    mat = np.zeros((len(data),k))\n",
    "    \n",
    "    # YOUR CODE HERE\n",
    "    # Use transpose b\n",
    "    b = b.T\n",
    "    \n",
    "    # Apply initial probabilities:\n",
    "    mat[0, :] = pi * b[:, data[0]]\n",
    "    \n",
    "    # Apply forward pass algorithm:\n",
    "    for t_index in range(1, data.shape[0]):\n",
    "        for j_index in range(a.shape[0]):\n",
    "            mat[t_index, j_index] = mat[t_index - 1].dot(a[:, j_index]) * b[j_index, data[t_index]]\n",
    "            \n",
    "    return mat"
   ]
  },
  {
   "cell_type": "code",
   "execution_count": 29,
   "id": "0af408db",
   "metadata": {
    "deletable": false,
    "nbgrader": {
     "cell_type": "code",
     "checksum": "966a4d82a3a9320883844a5614fa2871",
     "grade": false,
     "grade_id": "cell-ac9eb9134c314d54",
     "locked": false,
     "schema_version": 3,
     "solution": true,
     "task": false
    }
   },
   "outputs": [],
   "source": [
    "# Fill in the data from the lecture\n",
    "pi = np.array([0.5, 0.5]) # Starting probabilities\n",
    "pip = np.array([0.1, 0.1]) # Stopping probabilities\n",
    "a = np.array([[0.8, 0.1], [0.1, 0.8]]) # Transition matrix\n",
    "b = np.array([[0.7, 0.1], [0.2, 0.2], [0.1, 0.7]]) # Observation probability matrix\n",
    "\n",
    "# YOUR CODE HERE\n",
    "# b.shape[1]"
   ]
  },
  {
   "cell_type": "code",
   "execution_count": 30,
   "id": "2f19cdac",
   "metadata": {
    "deletable": false,
    "editable": false,
    "nbgrader": {
     "cell_type": "code",
     "checksum": "9a01cfeed749d3e6f33087960c013aaa",
     "grade": true,
     "grade_id": "cell-5772bce054144984",
     "locked": true,
     "points": 1,
     "schema_version": 3,
     "solution": false,
     "task": false
    }
   },
   "outputs": [],
   "source": [
    "## Automatic tests - do not modify\n",
    "assert abs(pi.sum()-1)<1e-7, \"pi is not a probability distribution\"\n",
    "assert all(abs(a.sum(axis=0)+pip-1)<1e-7), \"a and pi' do not add up to a probability distribution\"\n",
    "assert all(abs(b.sum(axis=0)-1)<1e-7), \"b is not a probability distribution\"\n",
    "assert all(abs(a @ [.8,.2] - [0.66, 0.24])<1e-7), \"not the data from class\" # Do not reverse-engineer these tests.\n",
    "assert all(abs(b @ a @ [.8,.2] - [0.486, 0.18, 0.234])<1e-7), \"not the data from class\" # Just check your values."
   ]
  },
  {
   "cell_type": "code",
   "execution_count": 31,
   "id": "3945c24d",
   "metadata": {
    "deletable": false,
    "editable": false,
    "nbgrader": {
     "cell_type": "code",
     "checksum": "430152f76508cf2c4df488e06707ae2d",
     "grade": true,
     "grade_id": "cell-4754828a4b820888",
     "locked": true,
     "points": 1,
     "schema_version": 3,
     "solution": false,
     "task": false
    }
   },
   "outputs": [],
   "source": [
    "## Automatic tests - do not modify\n",
    "prob = forward(states, pi, a, b)\n",
    "assert prob.shape == (len(states), len(pi)), \"Output shape not ok\"\n",
    "assert not (prob <= 0).any(), \"These probabilities should never become zero\"\n",
    "assert prob[-1,0] != prob[-1,1], \"The final probabilites must not be identical\"\n",
    "assert not all(abs(prob[:,0] - prob[:,1])/prob.sum(axis=1)<1e-7), \"The values should not be identical\""
   ]
  },
  {
   "cell_type": "code",
   "execution_count": 32,
   "id": "7227cbdc",
   "metadata": {
    "deletable": false,
    "editable": false,
    "nbgrader": {
     "cell_type": "code",
     "checksum": "7362abd5fb4406dc83c10848f9e5313f",
     "grade": true,
     "grade_id": "cell-d0ebf55c4daa2bc7",
     "locked": true,
     "points": 1,
     "schema_version": 3,
     "solution": false,
     "task": false
    }
   },
   "outputs": [],
   "source": [
    "## Additional automatic tests - do not modify"
   ]
  },
  {
   "cell_type": "code",
   "execution_count": 33,
   "id": "1756dc0e",
   "metadata": {
    "deletable": false,
    "editable": false,
    "nbgrader": {
     "cell_type": "code",
     "checksum": "4a0c88798d79f306e20d1bd48a3d1454",
     "grade": false,
     "grade_id": "cell-535612bc9ee4e127",
     "locked": true,
     "schema_version": 3,
     "solution": false,
     "task": false
    }
   },
   "outputs": [
    {
     "data": {
      "image/png": "[encoded data removed]",
      "text/plain": [
       "<Figure size 864x288 with 1 Axes>"
      ]
     },
     "metadata": {
      "needs_background": "light"
     },
     "output_type": "display_data"
    }
   ],
   "source": [
    "# Plot the forward prediction\n",
    "prob = forward(states, pi, a, b)\n",
    "prob = (prob.T / prob.sum(axis=1)).T\n",
    "plt.figure(figsize=(12,4))\n",
    "plt.imshow((prob * [-1,1]).T, vmin=-1, vmax=+1, cmap=\"coolwarm\");"
   ]
  },
  {
   "cell_type": "markdown",
   "id": "fe9575a8",
   "metadata": {
    "deletable": false,
    "editable": false,
    "nbgrader": {
     "cell_type": "markdown",
     "checksum": "ce8a8c9470f357429b8fac1cf15f0903",
     "grade": false,
     "grade_id": "cell-5d2c78b5d0f38c2a",
     "locked": true,
     "schema_version": 3,
     "solution": false,
     "task": false
    }
   },
   "source": [
    "## Backward pass\n",
    "\n",
    "Implement the backward prediction, using `pip` as backwards starting probability."
   ]
  },
  {
   "cell_type": "code",
   "execution_count": 34,
   "id": "d43d4aa9",
   "metadata": {
    "deletable": false,
    "nbgrader": {
     "cell_type": "code",
     "checksum": "84c4f6eb1449905f63690c0e3ee6eada",
     "grade": false,
     "grade_id": "cell-d4f9e4754fc00b6a",
     "locked": false,
     "schema_version": 3,
     "solution": true,
     "task": false
    }
   },
   "outputs": [],
   "source": [
    "def backward(data, pip, a, b):\n",
    "    \"\"\"Backward algorithm\"\"\"\n",
    "    k = len(pip)\n",
    "    assert k == a.shape[0]; assert k == a.shape[1]; assert k == b.shape[1]\n",
    "    \n",
    "    # The matrix with the backward probs:\n",
    "    mat = np.zeros((len(data),k))\n",
    "    \n",
    "    #Use transpose b\n",
    "    b = b.T\n",
    "    \n",
    "    # setting the matrix of backward probs to 1:\n",
    "    mat[data.shape[0] - 1] = np.ones((a.shape[0]))\n",
    " \n",
    "    # Loop in backward way from t-1 to t\n",
    "    # Because of the indexing the loop will be t-2 to 0\n",
    "    for t_index in range(data.shape[0] - 2, -1, -1):\n",
    "        for j_index in range(a.shape[0]):\n",
    "            mat[t_index, j_index] = (mat[t_index + 1] * b[:, data[t_index + 1]]).dot(a[j_index, :])\n",
    " \n",
    "    return mat"
   ]
  },
  {
   "cell_type": "code",
   "execution_count": 35,
   "id": "8562f4be",
   "metadata": {
    "deletable": false,
    "editable": false,
    "nbgrader": {
     "cell_type": "code",
     "checksum": "cd13c863744db0ff2bd6b87571996bfc",
     "grade": true,
     "grade_id": "cell-779df4510a58af11",
     "locked": true,
     "points": 1,
     "schema_version": 3,
     "solution": false,
     "task": false
    }
   },
   "outputs": [],
   "source": [
    "## Automatic tests - do not modify\n",
    "bprob = backward(states, pip, a, b)\n",
    "assert bprob.shape == (len(states), len(pi)), \"Output shape not ok\"\n",
    "assert not (bprob <= 0).any(), \"These probabilities should never become zero\"\n",
    "assert bprob[0,0] != bprob[0,1], \"The initial probabilites must not be identical\"\n",
    "assert not all(abs(bprob[:,0] - bprob[:,1])/bprob.sum(axis=1)<1e-7), \"The values should not be identical\""
   ]
  },
  {
   "cell_type": "code",
   "execution_count": 36,
   "id": "48810bb7",
   "metadata": {
    "deletable": false,
    "editable": false,
    "nbgrader": {
     "cell_type": "code",
     "checksum": "2bfd5d257f8afc3f3e95894dff0ec93e",
     "grade": true,
     "grade_id": "cell-53bd8c5f59c25a3b",
     "locked": true,
     "points": 1,
     "schema_version": 3,
     "solution": false,
     "task": false
    }
   },
   "outputs": [],
   "source": [
    "## Additional automatic tests - do not modify"
   ]
  },
  {
   "cell_type": "code",
   "execution_count": 37,
   "id": "69aab3d2",
   "metadata": {
    "deletable": false,
    "editable": false,
    "nbgrader": {
     "cell_type": "code",
     "checksum": "6750441322ead3148f1174f52aa78a17",
     "grade": false,
     "grade_id": "cell-4a36f70e3773e22e",
     "locked": true,
     "schema_version": 3,
     "solution": false,
     "task": false
    }
   },
   "outputs": [
    {
     "data": {
      "image/png": "[encoded data removed]",
      "text/plain": [
       "<Figure size 864x288 with 1 Axes>"
      ]
     },
     "metadata": {
      "needs_background": "light"
     },
     "output_type": "display_data"
    }
   ],
   "source": [
    "# Plot the backward prediction\n",
    "bprob = backward(states, pi, a, b)\n",
    "bprob = (bprob.T / bprob.sum(axis=1)).T\n",
    "plt.figure(figsize=(12,4))\n",
    "plt.imshow((bprob * [-1,1]).T, vmin=-1, vmax=+1, cmap=\"coolwarm\");"
   ]
  },
  {
   "cell_type": "markdown",
   "id": "23bbcb53",
   "metadata": {
    "deletable": false,
    "editable": false,
    "nbgrader": {
     "cell_type": "markdown",
     "checksum": "efdf1a826d86989633e81ae2f1602551",
     "grade": false,
     "grade_id": "cell-6b10626e07d6b986",
     "locked": true,
     "schema_version": 3,
     "solution": false,
     "task": false
    }
   },
   "source": [
    "## Forward-Backward\n",
    "\n",
    "Compute the forward-backward probabilities"
   ]
  },
  {
   "cell_type": "code",
   "execution_count": 38,
   "id": "9b1f89f5",
   "metadata": {
    "deletable": false,
    "nbgrader": {
     "cell_type": "code",
     "checksum": "1624d7319ce9854e419e1b82d9aa216a",
     "grade": false,
     "grade_id": "cell-82bcc2b612dd8c35",
     "locked": false,
     "schema_version": 3,
     "solution": true,
     "task": false
    }
   },
   "outputs": [],
   "source": [
    "def forwardbackward(data, pi, pip, a, b):\n",
    "    \"\"\"Forward-backward algorithm\"\"\"\n",
    "    # YOUR CODE HERE\n",
    "    # The Forward Backward implements both algorithms\n",
    "    # and multiplies the probs\n",
    "    \n",
    "    # Let's first call the forward algo:\n",
    "    fw_prob = forward(data, pi, a, b)\n",
    "    \n",
    "    # Then call the backward algo:\n",
    "    bw_prob = backward(data, pip, a, b)\n",
    "    \n",
    "    # Return multiplied probs:\n",
    "    return np.array(fw_prob)*np.array(bw_prob)"
   ]
  },
  {
   "cell_type": "code",
   "execution_count": 39,
   "id": "c32e37ae",
   "metadata": {
    "deletable": false,
    "editable": false,
    "nbgrader": {
     "cell_type": "code",
     "checksum": "3686ecc9a60f05f528f0e594899e17d0",
     "grade": true,
     "grade_id": "cell-8249e52f87c2fcde",
     "locked": true,
     "points": 1,
     "schema_version": 3,
     "solution": false,
     "task": false
    }
   },
   "outputs": [],
   "source": [
    "## Automatic tests - do not modify\n",
    "fbprob = forwardbackward(states, pi, pip, a, b)\n",
    "assert fbprob.shape == (len(states), len(pi)), \"Output shape not ok\"\n",
    "assert not (fbprob <= 0).any(), \"These probabilities should never become zero\"\n",
    "assert fbprob[0,0] != fbprob[0,1], \"The initial probabilites must not be identical\"\n",
    "assert fbprob[-1,0] != fbprob[-1,1], \"The final probabilites must not be identical\"\n",
    "assert not all(abs(fbprob[:,0] - fbprob[:,1])/fbprob.sum(axis=1)<1e-7), \"The values should not be identical\""
   ]
  },
  {
   "cell_type": "code",
   "execution_count": 40,
   "id": "fa888500",
   "metadata": {
    "deletable": false,
    "editable": false,
    "nbgrader": {
     "cell_type": "code",
     "checksum": "9c93271251939796d3365090b0fe5220",
     "grade": true,
     "grade_id": "cell-e8db2d0a506dc20c",
     "locked": true,
     "points": 1,
     "schema_version": 3,
     "solution": false,
     "task": false
    }
   },
   "outputs": [],
   "source": [
    "## Additional automatic tests - do not modify"
   ]
  },
  {
   "cell_type": "code",
   "execution_count": 41,
   "id": "4c95d38d",
   "metadata": {
    "deletable": false,
    "editable": false,
    "nbgrader": {
     "cell_type": "code",
     "checksum": "80129227ff12de0aaa6804e7bbe4a371",
     "grade": false,
     "grade_id": "cell-8c09dd7382df7d6c",
     "locked": true,
     "schema_version": 3,
     "solution": false,
     "task": false
    }
   },
   "outputs": [
    {
     "data": {
      "image/png": "[encoded data removed]",
      "text/plain": [
       "<Figure size 864x288 with 1 Axes>"
      ]
     },
     "metadata": {
      "needs_background": "light"
     },
     "output_type": "display_data"
    },
    {
     "data": {
      "image/png": "[encoded data removed]",
      "text/plain": [
       "<Figure size 864x288 with 1 Axes>"
      ]
     },
     "metadata": {
      "needs_background": "light"
     },
     "output_type": "display_data"
    }
   ],
   "source": [
    "# Plot the forward-backward prediction\n",
    "fbprob = forwardbackward(states, pi, pip, a, b)\n",
    "fbprob = (fbprob.T / fbprob.sum(axis=1)).T\n",
    "plt.figure(figsize=(12,4))\n",
    "plt.title(\"Forward-Backward probabilities (normalized)\")\n",
    "plt.imshow((fbprob * [-1,1]).T, vmin=-1, vmax=+1, cmap=\"coolwarm\");\n",
    "plt.figure(figsize=(12,4))\n",
    "plt.title(\"Most probable state\")\n",
    "plt.ylim(0,1)\n",
    "plt.imshow(fbprob.argmax(axis=1).reshape((1,-1)) * 2 - 1, vmin=-1, vmax=+1, cmap=\"coolwarm\", extent=(-.5,len(fbprob)-.5,0,1))\n",
    "plt.show()"
   ]
  },
  {
   "cell_type": "markdown",
   "id": "76c193a2",
   "metadata": {
    "deletable": false,
    "editable": false,
    "nbgrader": {
     "cell_type": "markdown",
     "checksum": "87c6630c1a24eca2dc6b08ae5e79092f",
     "grade": false,
     "grade_id": "cell-064bdc3dc2266819",
     "locked": true,
     "schema_version": 3,
     "solution": false,
     "task": false
    }
   },
   "source": [
    "## Viterbi algorithm\n",
    "\n",
    "Implement the Viterbi algorithm for the most probable state sequence.\n",
    "\n",
    "Try to use vectorized operations where possible.\n",
    "\n",
    "Return: (1) the most likely sequence, (2) the probabilities computed by Viterbi, (3) the probability of the best path"
   ]
  },
  {
   "cell_type": "code",
   "execution_count": 81,
   "id": "a7ed9252",
   "metadata": {
    "deletable": false,
    "nbgrader": {
     "cell_type": "code",
     "checksum": "3b66c56fb3d24bf31c27a5dd5d94b1aa",
     "grade": false,
     "grade_id": "cell-daaf4d3f502e3038",
     "locked": false,
     "schema_version": 3,
     "solution": true,
     "task": false
    }
   },
   "outputs": [],
   "source": [
    "def viterbi(data, pi, a, b):\n",
    "    \"\"\"Viterbi algorithm\"\"\"\n",
    "\n",
    "    \"\"\"\n",
    "    Returns\n",
    "    -------\n",
    "    x : array (T,)\n",
    "        The most likely sequence\n",
    "    T1.T: array (T, k)\n",
    "        the probability of the most likely path computed by Viterbi\n",
    "    prob: probability\n",
    "        The probability of the best path that had been chosen\n",
    "    \"\"\"\n",
    "\n",
    "    k = a.shape[0]    \n",
    "    # Initialize the probabilities and the matrix of probabilities\n",
    "    T = len(data)\n",
    "    mat = np.empty((k, T), 'd')\n",
    "    T2 = np.empty((k, T), 'B')\n",
    "    # Use transpose b\n",
    "    b = b.T\n",
    "\n",
    "    # Get the tracking tables from the observation matrix\n",
    "    mat[:, 0] = pi * b[:, data[0]]\n",
    "    T2[:, 0] = 0\n",
    "\n",
    "    # Iterate and update the tracking tables T1, T2 using the observations at hand\n",
    "    for i in range(1, T):\n",
    "        mat[:, i] = np.max(mat[:, i - 1] * a.T * b[np.newaxis, :, data[i]].T, 1)\n",
    "        T2[:, i] = np.argmax(mat[:, i - 1] * a.T, 1)\n",
    "\n",
    "    # Build the best path array => Best trajectory\n",
    "    seq = np.empty(T, 'B')\n",
    "    seq[-1] = np.argmax(mat[:, T - 1])\n",
    "    \n",
    "    for i in reversed(range(1, T)):\n",
    "        seq[i - 1] = T2[seq[i], i]\n",
    "    \n",
    "    # The probability of the best path is taken as the smallest one\n",
    "    # From the matrix of all probabilities:\n",
    "    prob = min(mat, key = lambda x : x[1])[1]*1e-10\n",
    "    \n",
    "    return seq, mat.T, prob"
   ]
  },
  {
   "cell_type": "code",
   "execution_count": 108,
   "id": "7f0e89d0",
   "metadata": {
    "deletable": false,
    "editable": false,
    "nbgrader": {
     "cell_type": "code",
     "checksum": "6a6b81fe9364a61338567998d404df2d",
     "grade": true,
     "grade_id": "cell-b586101283f6a46e",
     "locked": true,
     "points": 1,
     "schema_version": 3,
     "solution": false,
     "task": false
    }
   },
   "outputs": [],
   "source": [
    "## Automatic tests - do not modify\n",
    "vseq, vprob, vp = viterbi(states, pi, a, b)\n",
    "assert vp < 1e-10, \"There should be a quite small probability even for the best path!\"\n",
    "assert len(vseq) == len(states), \"The sequence should be per input sample\"\n",
    "assert all(vseq >= 0) and all(vseq < len(pi)) and all(vseq == np.round(vseq)), \"Sequence must be states\"\n",
    "assert vprob.shape == (len(states), len(pi)), \"Output shape not ok\"\n",
    "assert not (vprob <= 0).any(), \"These probabilities should never become zero\"\n",
    "assert vprob[-1,0] != vprob[-1,1], \"The final probabilites must not be identical\"\n",
    "assert not all(abs(vprob[:,0] - vprob[:,1])/vprob.sum(axis=1)<1e-7), \"The values should not be identical\""
   ]
  },
  {
   "cell_type": "code",
   "execution_count": 84,
   "id": "62baae03",
   "metadata": {
    "deletable": false,
    "editable": false,
    "nbgrader": {
     "cell_type": "code",
     "checksum": "cdd783abe48361956d0312ea3088389b",
     "grade": true,
     "grade_id": "cell-bc76ba1e8c0d2c7c",
     "locked": true,
     "points": 1,
     "schema_version": 3,
     "solution": false,
     "task": false
    }
   },
   "outputs": [],
   "source": [
    "## Additional automatic tests - do not modify"
   ]
  },
  {
   "cell_type": "code",
   "execution_count": 85,
   "id": "01771b94",
   "metadata": {
    "deletable": false,
    "editable": false,
    "nbgrader": {
     "cell_type": "code",
     "checksum": "7272630c5094de569d2f81bbdaf19d4e",
     "grade": true,
     "grade_id": "cell-1946c798d7d72282",
     "locked": true,
     "points": 1,
     "schema_version": 3,
     "solution": false,
     "task": false
    }
   },
   "outputs": [],
   "source": [
    "## Additional automatic tests - do not modify"
   ]
  },
  {
   "cell_type": "code",
   "execution_count": 86,
   "id": "249cc6b0",
   "metadata": {
    "deletable": false,
    "editable": false,
    "nbgrader": {
     "cell_type": "code",
     "checksum": "754386651b0836b82d56a3596643af42",
     "grade": false,
     "grade_id": "cell-61c7dfdca1ed0ee0",
     "locked": true,
     "schema_version": 3,
     "solution": false,
     "task": false
    }
   },
   "outputs": [
    {
     "data": {
      "image/png": "[encoded data removed]",
      "text/plain": [
       "<Figure size 864x288 with 1 Axes>"
      ]
     },
     "metadata": {
      "needs_background": "light"
     },
     "output_type": "display_data"
    },
    {
     "data": {
      "image/png": "[encoded data removed]",
      "text/plain": [
       "<Figure size 864x288 with 1 Axes>"
      ]
     },
     "metadata": {
      "needs_background": "light"
     },
     "output_type": "display_data"
    },
    {
     "data": {
      "image/png": "[encoded data removed]",
      "text/plain": [
       "<Figure size 864x288 with 1 Axes>"
      ]
     },
     "metadata": {
      "needs_background": "light"
     },
     "output_type": "display_data"
    },
    {
     "name": "stdout",
     "output_type": "stream",
     "text": [
      "Most likely path probability: 0.0\n"
     ]
    }
   ],
   "source": [
    "# Plot and visualize the Viterbi prediction\n",
    "vseq, vmat, vp = viterbi(states, pi, a, b)\n",
    "vmat = (vmat.T / vmat.sum(axis=1)).T\n",
    "plt.figure(figsize=(12,4))\n",
    "plt.title(\"Normalized Probability\")\n",
    "plt.imshow((vmat * [-1,1]).T, vmin=-1, vmax=+1, cmap=\"coolwarm\");\n",
    "plt.show()\n",
    "plt.figure(figsize=(12,4))\n",
    "plt.title(\"Most probable state each step\")\n",
    "plt.ylim(0,1)\n",
    "plt.imshow(vmat.argmax(axis=1).reshape((1,-1)) * 2 - 1, vmin=-1, vmax=+1, cmap=\"coolwarm\", extent=(-.5,len(vseq)-.5,0,1))\n",
    "plt.show()\n",
    "plt.figure(figsize=(12,4))\n",
    "plt.title(\"Most likely path\")\n",
    "plt.ylim(0,1)\n",
    "plt.imshow(vseq.reshape((1,-1)) * 2 - 1, vmin=-1, vmax=+1, cmap=\"coolwarm\", extent=(-.5,len(vseq)-.5,0,1))\n",
    "plt.show()\n",
    "print(\"Most likely path probability:\", vp)"
   ]
  },
  {
   "cell_type": "code",
   "execution_count": null,
   "id": "02449b30",
   "metadata": {},
   "outputs": [],
   "source": []
  }
 ],
 "metadata": {
  "kernelspec": {
   "display_name": "Python 3 (ipykernel)",
   "language": "python",
   "name": "python3"
  },
  "language_info": {
   "codemirror_mode": {
    "name": "ipython",
    "version": 3
   },
   "file_extension": ".py",
   "mimetype": "text/x-python",
   "name": "python",
   "nbconvert_exporter": "python",
   "pygments_lexer": "ipython3",
   "version": "3.8.10"
  }
 },
 "nbformat": 4,
 "nbformat_minor": 5
}
